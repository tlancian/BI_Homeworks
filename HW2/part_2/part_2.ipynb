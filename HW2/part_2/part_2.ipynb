{
 "cells": [
  {
   "cell_type": "code",
   "execution_count": 1,
   "metadata": {},
   "outputs": [
    {
     "data": {
      "text/html": [
       "<style>.container { width:95% !important; }</style>"
      ],
      "text/plain": [
       "<IPython.core.display.HTML object>"
      ]
     },
     "metadata": {},
     "output_type": "display_data"
    }
   ],
   "source": [
    "from IPython.core.display import display, HTML\n",
    "display(HTML(\"<style>.container { width:95% !important; }</style>\"))"
   ]
  },
  {
   "cell_type": "code",
   "execution_count": 3,
   "metadata": {
    "collapsed": true
   },
   "outputs": [],
   "source": [
    "import operator\n",
    "import numpy as np\n",
    "import pandas as pd\n",
    "import networkx as nx\n",
    "import matplotlib.pyplot as plt\n",
    "\n",
    "\n",
    "\n",
    "def save_highest_10(degree_lst, filename):\n",
    "    df = pd.DataFrame(degree_lst, columns=['channel', 'degree'])\n",
    "    df.to_csv('results/' + filename + '.csv')\n",
    "\n",
    "\n",
    "    \n",
    "def global_indeces(graph_names_lst):\n",
    "    global_cc = []\n",
    "    avg_path = []\n",
    "    for g in graph_names_lst:\n",
    "\n",
    "        adj = np.load('../part_1/results/npy/' + g + '.npy')\n",
    "        G = nx.from_numpy_matrix(adj, create_using=nx.DiGraph())\n",
    "        \n",
    "        if nx.is_weakly_connected(G):\n",
    "            global_cc.append(nx.average_clustering(G))\n",
    "            avg_path.append(nx.average_shortest_path_length(G))\n",
    "            \n",
    "        else:\n",
    "            global_cc.append(nx.average_clustering(G))\n",
    "            \n",
    "            G_un = nx.from_numpy_matrix(adj)\n",
    "            connected_components = nx.connected_component_subgraphs(G_un)\n",
    "            subgraphs = map(lambda smallGraph : G.subgraph(smallGraph.nodes()), connected_components)\n",
    "            avgShortestPaths = np.mean(list(map(lambda x: nx.average_shortest_path_length(x), subgraphs )))\n",
    "            avg_path.append(avgShortestPaths)\n",
    "\n",
    "    return(global_cc, avg_path)\n",
    "\n",
    "\n",
    "\n",
    "def global_plot(global_cc, avg_path, filename):\n",
    "    densities = [5, 10, 20, 30, 50]\n",
    "    \n",
    "    plt.subplot(1,2,1)\n",
    "    plt.plot(densities, global_cc, 'o-')\n",
    "    plt.title('global_cc - PDC')\n",
    "\n",
    "    plt.subplot(1,2,2)\n",
    "    plt.plot(densities, avg_path, 'o-')\n",
    "    plt.title('avg_path - PDC')\n",
    "    #plt.show()\n",
    "    plt.savefig('results/' + filename + '.png')\n",
    "    \n",
    "\n",
    "def topology(G, filename):\n",
    "    plt.figure(figsize=(20,10))\n",
    "    plt.subplot(1,3,1)\n",
    "    values=[]\n",
    "    for x in list(G.degree):\n",
    "        values.append(x[1])\n",
    "    plt.hist(values)\n",
    "    plt.xlabel('Degree')\n",
    "    plt.ylabel('Frequency of nodes')\n",
    "    plt.title('Degree')\n",
    "\n",
    "    plt.subplot(1,3,2)\n",
    "    values=[]\n",
    "    for x in list(G.in_degree):\n",
    "        values.append(x[1])\n",
    "    plt.hist(values)\n",
    "    plt.xlabel('Degree')\n",
    "    plt.ylabel('Frequency of nodes')\n",
    "    plt.title('In-Degree')\n",
    "\n",
    "    plt.subplot(1,3,3)\n",
    "    values=[]\n",
    "    for x in list(G.out_degree):\n",
    "        values.append(x[1])\n",
    "    plt.hist(values)\n",
    "    plt.xlabel('Degree')\n",
    "    plt.ylabel('Frequency of nodes')\n",
    "    plt.title('Out-Degree')\n",
    "    \n",
    "    plt.savefig('results/' + filename + '.png')"
   ]
  },
  {
   "cell_type": "code",
   "execution_count": 35,
   "metadata": {
    "collapsed": true
   },
   "outputs": [],
   "source": [
    "######## 2.1\n",
    "\n",
    "### PDC\n",
    "\n",
    "# Read data\n",
    "adj_eo_pdc = np.load('../part_1/results/npy/eo_pdc_20.npy')\n",
    "G_eo_pdc =nx.from_numpy_matrix(adj_eo_pdc, create_using=nx.DiGraph())\n",
    "\n",
    "adj_ec_pdc = np.load('../part_1/results/npy/ec_pdc_20.npy')\n",
    "G_ec_pdc =nx.from_numpy_matrix(adj_ec_pdc, create_using=nx.DiGraph())\n",
    "\n",
    "## GLOBAL INDICES \n",
    "\n",
    "# Clustering Coefficient\n",
    "\n",
    "CC_eo_pdc = nx.average_clustering(G_eo_pdc)\n",
    "CC_ec_pdc = nx.average_clustering(G_ec_pdc)\n",
    "\n",
    "# Average shortest path length\n",
    "\n",
    "avg_path_eo_pdc = nx.average_shortest_path_length(G_eo_pdc)\n",
    "avg_path_ec_pdc = nx.average_shortest_path_length(G_ec_pdc)\n",
    "\n",
    "\n",
    "## LOCAL INDICES \n",
    "\n",
    "# degree \n",
    "degree_10_eo_pdc = sorted(list(G_eo_pdc.degree), reverse=True, key=operator.itemgetter(1))[:10]\n",
    "save_highest_10(degree_10_eo_pdc, 'degree_eo_pdc')\n",
    "degree_10_ec_pdc = sorted(list(G_ec_pdc.degree), reverse=True, key=operator.itemgetter(1))[:10]\n",
    "save_highest_10(degree_10_ec_pdc, 'degree_ec_pdc')\n",
    "\n",
    "# in_degree\n",
    "in_degree_10_eo_pdc = sorted(list(G_eo_pdc.in_degree), reverse=True, key=operator.itemgetter(1))[:10]\n",
    "save_highest_10(in_degree_10_eo_pdc, 'in_degree_eo_pdc')\n",
    "in_degree_10_ec_pdc =sorted(list(G_ec_pdc.in_degree), reverse=True, key=operator.itemgetter(1))[:10]\n",
    "save_highest_10(in_degree_10_ec_pdc, 'in_degree_ec_pdc')\n",
    "\n",
    "# out_degree\n",
    "out_degree_10_eo_pdc = sorted(list(G_eo_pdc.out_degree), reverse=True, key=operator.itemgetter(1))[:10]\n",
    "save_highest_10(out_degree_10_eo_pdc, 'out_degree_eo_pdc')\n",
    "out_degree_10_ec_pdc = sorted(list(G_ec_pdc.out_degree), reverse=True, key=operator.itemgetter(1))[:10]\n",
    "save_highest_10(out_degree_10_ec_pdc, 'out_degree_ec_pdc')\n",
    "\n",
    "\n",
    "\n",
    "######## 2.2\n",
    "\n",
    "######## 2.3\n",
    "\n",
    "### DTF\n",
    "\n",
    "# Read data\n",
    "adj_eo_dtf = np.load('../part_1/results/npy/eo_dtf_20.npy')\n",
    "G_eo_dtf =nx.from_numpy_matrix(adj_eo_dtf, create_using=nx.DiGraph())\n",
    "\n",
    "adj_ec_dtf = np.load('../part_1/results/npy/ec_dtf_20.npy')\n",
    "G_ec_dtf =nx.from_numpy_matrix(adj_ec_dtf, create_using=nx.DiGraph())\n",
    "\n",
    "## GLOBAL INDICES \n",
    "\n",
    "# Clustering Coefficient\n",
    "\n",
    "CC_eo_dtf = nx.average_clustering(G_eo_dtf)\n",
    "CC_ec_dtf = nx.average_clustering(G_ec_dtf)\n",
    "\n",
    "# Average shortest path length\n",
    "\n",
    "avg_path_eo_dtf = nx.average_shortest_path_length(G_eo_dtf)\n",
    "avg_path_ec_dtf = nx.average_shortest_path_length(G_ec_dtf)\n",
    "\n",
    "# save\n",
    "cc = pd.DataFrame([[CC_eo_pdc, CC_ec_pdc], [CC_eo_dtf, CC_ec_dtf]], columns=['pdc', 'dtf'])\n",
    "avg_path = pd.DataFrame([[avg_path_eo_pdc, avg_path_ec_pdc], [avg_path_eo_dtf, avg_path_ec_dtf]], columns=['pdc', 'dtf'])\n",
    "\n",
    "cc.to_csv('results/clustering_coefficient.csv')\n",
    "avg_path.to_csv('results/average_shortest_path.csv')\n",
    "\n",
    "\n",
    "######## 2.4\n",
    "\n",
    "lst_eo = ['eo_pdc_05', 'eo_pdc_10', 'eo_pdc_20', 'eo_pdc_30', 'eo_pdc_50']\n",
    "lst_ec = ['ec_pdc_05', 'ec_pdc_10', 'ec_pdc_20', 'ec_pdc_30', 'ec_pdc_50']\n",
    "\n",
    "global_cc_eo = global_indeces(lst_eo)[0]\n",
    "avg_path_eo = global_indeces(lst_eo)[1]\n",
    "\n",
    "global_cc_ec = global_indeces(lst_ec)[0]\n",
    "avg_path_ec = global_indeces(lst_ec)[1]\n",
    "\n",
    "# save\n",
    "global_plot(global_cc_ec, avg_path_ec, 'global_indices_ec_pdc')\n",
    "global_plot(global_cc_eo, avg_path_eo, 'global_indices_eo_pdc')\n",
    "\n",
    "\n",
    "######## 2.5\n",
    "\n",
    "topology(G_eo_pdc, 'topology_eo_pdc')\n",
    "topology(G_eo_pdc, 'topology_ec_pdc')\n",
    "\n",
    "\n",
    "######## 2.6\n",
    "\n",
    "adj_ec2 = np.load('../part_1/results/npy/alt_ec_pdc_20.npy')\n",
    "G_ec2 = nx.from_numpy_matrix(adj_ec2, create_using=nx.DiGraph())\n",
    "adj_eo2 = np.load('../part_1/results/npy/alt_eo_pdc_20.npy')\n",
    "G_eo2 = nx.from_numpy_matrix(adj_eo2, create_using=nx.DiGraph())\n",
    "\n",
    "\n",
    "## GLOBAL INDICES \n",
    "\n",
    "CC_eo2 = nx.average_clustering(G_eo2)\n",
    "CC_ec2 = nx.average_clustering(G_ec2)\n",
    "\n",
    "avg_path_eo2 = nx.average_shortest_path_length(G_eo2)\n",
    "avg_path_ec2 = nx.average_shortest_path_length(G_ec2)\n",
    "\n",
    "\n",
    "df = pd.DataFrame([[CC_eo_pdc, CC_eo2, CC_ec_pdc, CC_ec2],\n",
    "                      [avg_path_eo_pdc, avg_path_eo2, avg_path_ec_pdc, avg_path_ec2]], \n",
    "                     columns=['eo_pdc','alt_eo','ec_pdc','alt_ec'],\n",
    "                 index = ['clustering_coefficient', 'avg_shortest_path_length'])\n",
    "df.to_csv('results/graph_idx_comparison.csv')\n",
    "\n",
    "## LOCAL INDICES \n",
    "\n",
    "# degree \n",
    "degree_10_eo2 = sorted(list(G_eo2.degree), reverse=True, key=operator.itemgetter(1))[:10]\n",
    "save_highest_10(degree_10_eo2, 'degree_alt_eo')\n",
    "degree_10_ec2 = sorted(list(G_ec2.degree), reverse=True, key=operator.itemgetter(1))[:10]\n",
    "save_highest_10(degree_10_ec2, 'degree_alt_ec')\n",
    "\n",
    "# in_degree\n",
    "in_degree_10_eo2 = sorted(list(G_eo2.in_degree), reverse=True, key=operator.itemgetter(1))[:10]\n",
    "save_highest_10(in_degree_10_eo2, 'in_degree_alt_eo')\n",
    "in_degree_10_ec2 =sorted(list(G_ec2.in_degree), reverse=True, key=operator.itemgetter(1))[:10]\n",
    "save_highest_10(in_degree_10_ec2, 'in_degree_alt_ec')\n",
    "\n",
    "# out_degree\n",
    "out_degree_10_eo2 = sorted(list(G_eo2.out_degree), reverse=True, key=operator.itemgetter(1))[:10]\n",
    "save_highest_10(out_degree_10_eo2, 'out_degree_alt_eo')\n",
    "out_degree_10_ec2 = sorted(list(G_ec2.out_degree), reverse=True, key=operator.itemgetter(1))[:10]\n",
    "save_highest_10(out_degree_10_ec2, 'out_degree_alt_ec')\n",
    "\n",
    "\n",
    "\n",
    "######## 2.7\n",
    "\n"
   ]
  },
  {
   "cell_type": "code",
   "execution_count": null,
   "metadata": {
    "collapsed": true
   },
   "outputs": [],
   "source": []
  },
  {
   "cell_type": "code",
   "execution_count": 14,
   "metadata": {},
   "outputs": [
    {
     "data": {
      "text/plain": [
       "[1.5376984126984128, 2.804563492063492, 1.9796626984126984]"
      ]
     },
     "execution_count": 14,
     "metadata": {},
     "output_type": "execute_result"
    }
   ],
   "source": [
    "####\n",
    "\n",
    "# 1. trovare tutte le componenti connesse\n",
    "# 2. per ogni componente selezionare i nodi\n",
    "# calcolare avg del subgraph del grafo diretto\n",
    "# media di tutto \n"
   ]
  },
  {
   "cell_type": "code",
   "execution_count": null,
   "metadata": {
    "collapsed": true
   },
   "outputs": [],
   "source": []
  },
  {
   "cell_type": "code",
   "execution_count": null,
   "metadata": {
    "collapsed": true
   },
   "outputs": [],
   "source": []
  },
  {
   "cell_type": "code",
   "execution_count": null,
   "metadata": {
    "collapsed": true
   },
   "outputs": [],
   "source": []
  },
  {
   "cell_type": "code",
   "execution_count": null,
   "metadata": {
    "collapsed": true
   },
   "outputs": [],
   "source": []
  },
  {
   "cell_type": "code",
   "execution_count": null,
   "metadata": {
    "collapsed": true
   },
   "outputs": [],
   "source": []
  },
  {
   "cell_type": "code",
   "execution_count": null,
   "metadata": {
    "collapsed": true
   },
   "outputs": [],
   "source": []
  },
  {
   "cell_type": "code",
   "execution_count": null,
   "metadata": {
    "collapsed": true
   },
   "outputs": [],
   "source": []
  },
  {
   "cell_type": "code",
   "execution_count": null,
   "metadata": {
    "collapsed": true
   },
   "outputs": [],
   "source": []
  },
  {
   "cell_type": "code",
   "execution_count": null,
   "metadata": {
    "collapsed": true
   },
   "outputs": [],
   "source": []
  }
 ],
 "metadata": {
  "kernelspec": {
   "display_name": "Python 3",
   "language": "python",
   "name": "python3"
  },
  "language_info": {
   "codemirror_mode": {
    "name": "ipython",
    "version": 3
   },
   "file_extension": ".py",
   "mimetype": "text/x-python",
   "name": "python",
   "nbconvert_exporter": "python",
   "pygments_lexer": "ipython3",
   "version": "3.6.2"
  }
 },
 "nbformat": 4,
 "nbformat_minor": 2
}
