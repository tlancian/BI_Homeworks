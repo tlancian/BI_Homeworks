{
 "cells": [
  {
   "cell_type": "code",
   "execution_count": 3,
   "metadata": {},
   "outputs": [
    {
     "data": {
      "text/html": [
       "<style>.container { width:80% !important; }</style>"
      ],
      "text/plain": [
       "<IPython.core.display.HTML object>"
      ]
     },
     "metadata": {},
     "output_type": "display_data"
    }
   ],
   "source": [
    "from IPython.core.display import display, HTML\n",
    "display(HTML(\"<style>.container { width:80% !important; }</style>\"))"
   ]
  },
  {
   "cell_type": "code",
   "execution_count": 1,
   "metadata": {
    "collapsed": true
   },
   "outputs": [],
   "source": [
    "import networkx as nx\n",
    "import pandas as pd\n",
    "import markov_clustering as mc\n",
    "import community\n",
    "import matplotlib.pyplot as plt\n",
    "import numpy as np\n",
    "\n",
    "import utils as ut"
   ]
  },
  {
   "cell_type": "code",
   "execution_count": null,
   "metadata": {},
   "outputs": [],
   "source": [
    "### TODO: nella funzione louvain, return i cluster e non la partizione\n",
    "\n",
    "def read_graph(file):\n",
    "    \n",
    "    G = nx.Graph()\n",
    "    \n",
    "    with open(\"../interactomes/\"+file+\".tsv\", \"r\") as f:\n",
    "        for row in f.readlines()[1:]:\n",
    "            edge = row[:-1].split(\"\\t\")\n",
    "            G.add_edge(edge[0],edge[1])\n",
    "    \n",
    "    return G\n",
    "\n",
    "\n",
    "def find_best_inflation(mat):\n",
    "    \n",
    "    infl_lst = []\n",
    "    for inflation in [i/10 for i in range(15, 26)]:\n",
    "        \n",
    "        result = mc.run_mcl(mat, inflation=inflation)\n",
    "        clusters = mc.get_clusters(result)\n",
    "        Q = mc.modularity(matrix=np.asmatrix(result), clusters=clusters)\n",
    "        infl_lst.append((Q, inflation))\n",
    "    \n",
    "    return(max(infl_lst)[1])\n",
    "\n",
    "def get_labels(G_lcc, clusters):\n",
    "    \n",
    "    # map node name to numbers\n",
    "    lbls = {}\n",
    "    for k in range(len(G_lcc)):\n",
    "        lbls[k] = list(G_lcc.nodes())[k]\n",
    "\n",
    "    # use labels\n",
    "    for i in range(len(clusters)):\n",
    "        clusters[i] = [lbls.get(item, item) for item in clusters[i]]\n",
    "    \n",
    "    return(clusters)\n",
    "\n",
    "\n",
    "def MCL(G_lcc):\n",
    "    \n",
    "    mat = nx.to_numpy_matrix(G_lcc)\n",
    "    \n",
    "    # find best inflation\n",
    "    max_infl = find_best_inflation(mat)\n",
    "    \n",
    "    result = mc.run_mcl(mat, inflation = max_infl)\n",
    "    clusters = mc.get_clusters(result)\n",
    "    \n",
    "    # return name of genes\n",
    "    return(get_labels(G_lcc, clusters))\n",
    "\n",
    "\n",
    "def louvain(G_lcc):\n",
    "    \n",
    "    partition = community.best_partition(G_lcc)\n",
    "\n",
    "    return(partition)\n",
    "\n",
    "\n",
    "def hypergeom_test(mod, genes, G_lcc):\n",
    "    \n",
    "    M = len(G_lcc.nodes())\n",
    "    n = len(genes)\n",
    "    N = len(mod)\n",
    "    x = len(set(genes).intersection(set(mod)))\n",
    "    \n",
    "    pval = hypergeom.cdf(x, M, n, N)\n",
    "    \n",
    "    return(pval, x, M, n, N)\n",
    "\n",
    "\n",
    "\n",
    "def find_modules(clusters):\n",
    "    modules = [i for i in clusters if len(i) >=10]\n",
    "    \n",
    "    return(modules)\n"
   ]
  },
  {
   "cell_type": "code",
   "execution_count": null,
   "metadata": {
    "collapsed": true
   },
   "outputs": [],
   "source": [
    "        "
   ]
  },
  {
   "cell_type": "code",
   "execution_count": 2,
   "metadata": {},
   "outputs": [],
   "source": [
    "# Initialize the gene list\n",
    "with open(\"seed_genes.txt\",\"r\") as f:\n",
    "    genes = [gene.rstrip() for gene in f.readlines()]\n",
    "\n",
    "\n",
    "### read data\n",
    "\n",
    "ii = ut.read_graph(\"ii\")\n",
    "ui = ut.read_graph(\"ui\")\n",
    "\n",
    "# get LCC\n",
    "G_ii = max(nx.connected_component_subgraphs(ii), key=len)\n",
    "G_ui = max(nx.connected_component_subgraphs(ui), key=len)\n",
    "\n",
    "\n",
    "### LOUVAIN \n",
    "\n",
    "partition_ii = ut.louvain(G_ii)\n",
    "partition_ui = ut.louvain(G_ui)\n",
    "\n",
    "\n",
    "### MCL\n",
    "\n",
    "cl_ii_mcl = ut.MCL(G_ii)\n",
    "cl_ui_mcl = ut.MCL(G_ui)\n",
    "\n",
    "\n",
    "# create table\n",
    "col_lst = ['cl_algo', 'mod_id', 'n_sg', 'n_g', 'sg_id', 'g_id', 'p_value']\n",
    "df_ui = pd.DataFrame(data=None, columns = col_lst)\n",
    "df_ii = pd.DataFrame(data=None, columns = col_lst)\n",
    "\n",
    "\n",
    "### hypergeometric test - ui, MCL\n",
    "df_ui = pd.DataFrame(data=None, columns = col_lst)\n",
    "r = df_ui.shape[0]\n",
    "for idx, c in enumerate(cl_ui_mcl):\n",
    "    df_ui.loc[r+idx, 'cl_algo'] = 'MCL'\n",
    "    df_ui.loc[r+idx, 'mod_id'] = idx\n",
    "    df_ui.loc[r+idx, 'n_sg'] = ut.hypergeom_test(c, genes, G_ui)[1]\n",
    "    df_ui.loc[r+idx, 'n_g'] = ut.hypergeom_test(c, genes, G_ui)[4]\n",
    "    df_ui.loc[r+idx, 'sg_id'] = list(set(genes).intersection(set(c)))\n",
    "    df_ui.loc[r+idx, 'g_id'] = list(set(c))\n",
    "    df_ui.loc[r+idx, 'p_value'] = ut.hypergeom_test(c, genes, G_ui)[0]\n",
    "\n",
    "       \n",
    "        \n",
    "\n",
    "### hypergeometric test - ii, MCL\n",
    "\n",
    "df_ii = pd.DataFrame(data=None, columns = col_lst)\n",
    "r = df_ii.shape[0]\n",
    "for idx, c in enumerate(cl_ii_mcl):\n",
    "    df_ii.loc[r+idx, 'cl_algo'] = 'MCL'\n",
    "    df_ii.loc[r+idx, 'mod_id'] = idx\n",
    "    df_ii.loc[r+idx, 'n_sg'] = ut.hypergeom_test(c, genes, G_ii)[1]\n",
    "    df_ii.loc[r+idx, 'n_g'] = ut.hypergeom_test(c, genes, G_ii)[4]\n",
    "    df_ii.loc[r+idx, 'sg_id'] = list(set(genes).intersection(set(c)))\n",
    "    df_ii.loc[r+idx, 'g_id'] = list(set(c))\n",
    "    df_ii.loc[r+idx, 'p_value'] = ut.hypergeom_test(c, genes, G_ii)[0]\n",
    "\n",
    "\n",
    "### hypergeometric test - ui, Louvain\n",
    "\n",
    "\n",
    "### hypergeometric test - ii, Louvain\n",
    "\n",
    "\n",
    "#save\n",
    "\n",
    "df_ui.to_csv('df_ui.csv')\n",
    "df_ii.to_csv('df_ii.csv')\n",
    "\n",
    "\n",
    "# get putative disease modules\n",
    "df_ui[(df_ui.n_g >= 10) & (df_ui.p_value < 0.05)]\n"
   ]
  },
  {
   "cell_type": "code",
   "execution_count": 5,
   "metadata": {},
   "outputs": [
    {
     "data": {
      "text/html": [
       "<div>\n",
       "<style>\n",
       "    .dataframe thead tr:only-child th {\n",
       "        text-align: right;\n",
       "    }\n",
       "\n",
       "    .dataframe thead th {\n",
       "        text-align: left;\n",
       "    }\n",
       "\n",
       "    .dataframe tbody tr th {\n",
       "        vertical-align: top;\n",
       "    }\n",
       "</style>\n",
       "<table border=\"1\" class=\"dataframe\">\n",
       "  <thead>\n",
       "    <tr style=\"text-align: right;\">\n",
       "      <th></th>\n",
       "      <th>cl_algo</th>\n",
       "      <th>mod_id</th>\n",
       "      <th>n_sg</th>\n",
       "      <th>n_g</th>\n",
       "      <th>sg_id</th>\n",
       "      <th>g_id</th>\n",
       "      <th>p_value</th>\n",
       "    </tr>\n",
       "  </thead>\n",
       "  <tbody>\n",
       "    <tr>\n",
       "      <th>0</th>\n",
       "      <td>MCL</td>\n",
       "      <td>0</td>\n",
       "      <td>1</td>\n",
       "      <td>7</td>\n",
       "      <td>[TMSB4Y]</td>\n",
       "      <td>[POT1, TERF1, ACTA1, TMSB4Y, ACTG1, EWSR1, TER...</td>\n",
       "      <td>0.6224</td>\n",
       "    </tr>\n",
       "    <tr>\n",
       "      <th>1</th>\n",
       "      <td>MCL</td>\n",
       "      <td>1</td>\n",
       "      <td>1</td>\n",
       "      <td>5</td>\n",
       "      <td>[KDM5D]</td>\n",
       "      <td>[AR, HIST3H3, PCGF6, KDM5D, KMT2A]</td>\n",
       "      <td>0.422732</td>\n",
       "    </tr>\n",
       "    <tr>\n",
       "      <th>2</th>\n",
       "      <td>MCL</td>\n",
       "      <td>2</td>\n",
       "      <td>1</td>\n",
       "      <td>21</td>\n",
       "      <td>[SRY]</td>\n",
       "      <td>[HDAC3, WDR5, Pou3f3, Tcf12, Xpo4, SLC9A3R2, E...</td>\n",
       "      <td>0.99303</td>\n",
       "    </tr>\n",
       "    <tr>\n",
       "      <th>3</th>\n",
       "      <td>MCL</td>\n",
       "      <td>3</td>\n",
       "      <td>1</td>\n",
       "      <td>23</td>\n",
       "      <td>[DDX3Y]</td>\n",
       "      <td>[NUDCD2, SMAD2, HSCB, CCNB2, WBP4, VHL, PIN1, ...</td>\n",
       "      <td>0.996412</td>\n",
       "    </tr>\n",
       "    <tr>\n",
       "      <th>4</th>\n",
       "      <td>MCL</td>\n",
       "      <td>4</td>\n",
       "      <td>1</td>\n",
       "      <td>14</td>\n",
       "      <td>[USP9Y]</td>\n",
       "      <td>[Hsph1, CLK3, SHC1, USP9Y, VSX1, HS2ST1, NCKIP...</td>\n",
       "      <td>0.939496</td>\n",
       "    </tr>\n",
       "    <tr>\n",
       "      <th>5</th>\n",
       "      <td>MCL</td>\n",
       "      <td>5</td>\n",
       "      <td>1</td>\n",
       "      <td>7</td>\n",
       "      <td>[ZFY]</td>\n",
       "      <td>[L3MBTL2, ZFX, ZBTB9, RNF2, NSD1, CACNB3, ZFY]</td>\n",
       "      <td>0.6224</td>\n",
       "    </tr>\n",
       "    <tr>\n",
       "      <th>6</th>\n",
       "      <td>MCL</td>\n",
       "      <td>6</td>\n",
       "      <td>1</td>\n",
       "      <td>5</td>\n",
       "      <td>[TSPY1]</td>\n",
       "      <td>[HIST2H2BE, CSNK2A1, EEF1A1, EEF1A2, TSPY1]</td>\n",
       "      <td>0.422732</td>\n",
       "    </tr>\n",
       "    <tr>\n",
       "      <th>7</th>\n",
       "      <td>MCL</td>\n",
       "      <td>7</td>\n",
       "      <td>1</td>\n",
       "      <td>4</td>\n",
       "      <td>[CDY1]</td>\n",
       "      <td>[CDY1, HIST2H2AC, HIST1H4A, REV3L]</td>\n",
       "      <td>0.305457</td>\n",
       "    </tr>\n",
       "    <tr>\n",
       "      <th>8</th>\n",
       "      <td>MCL</td>\n",
       "      <td>8</td>\n",
       "      <td>2</td>\n",
       "      <td>15</td>\n",
       "      <td>[RPS4Y2, RPS4Y1]</td>\n",
       "      <td>[CALM1, IGSF8, RPS4Y1, ESR2, CD81, LRRK2, CYLD...</td>\n",
       "      <td>0.839951</td>\n",
       "    </tr>\n",
       "    <tr>\n",
       "      <th>9</th>\n",
       "      <td>MCL</td>\n",
       "      <td>9</td>\n",
       "      <td>1</td>\n",
       "      <td>21</td>\n",
       "      <td>[RBMY1A1]</td>\n",
       "      <td>[HNRNPK, IGF2BP1, AEN, APOBEC3C, CBX2, YWHAE, ...</td>\n",
       "      <td>0.99303</td>\n",
       "    </tr>\n",
       "    <tr>\n",
       "      <th>10</th>\n",
       "      <td>MCL</td>\n",
       "      <td>10</td>\n",
       "      <td>1</td>\n",
       "      <td>2</td>\n",
       "      <td>[CDY1B]</td>\n",
       "      <td>[CDY1B, UBC]</td>\n",
       "      <td>0.074983</td>\n",
       "    </tr>\n",
       "    <tr>\n",
       "      <th>11</th>\n",
       "      <td>MCL</td>\n",
       "      <td>11</td>\n",
       "      <td>1</td>\n",
       "      <td>8</td>\n",
       "      <td>[RBMY1F]</td>\n",
       "      <td>[HRP1, RBM10, YTHDC1, ZNF385C, C17orf113, RASD...</td>\n",
       "      <td>0.700967</td>\n",
       "    </tr>\n",
       "    <tr>\n",
       "      <th>12</th>\n",
       "      <td>MCL</td>\n",
       "      <td>12</td>\n",
       "      <td>1</td>\n",
       "      <td>31</td>\n",
       "      <td>[TBL1Y]</td>\n",
       "      <td>[CCT2, LRIF1, TBL1XR1, GPS2, MAP3K7, CCT6B, TB...</td>\n",
       "      <td>0.999791</td>\n",
       "    </tr>\n",
       "  </tbody>\n",
       "</table>\n",
       "</div>"
      ],
      "text/plain": [
       "   cl_algo mod_id n_sg n_g             sg_id  \\\n",
       "0      MCL      0    1   7          [TMSB4Y]   \n",
       "1      MCL      1    1   5           [KDM5D]   \n",
       "2      MCL      2    1  21             [SRY]   \n",
       "3      MCL      3    1  23           [DDX3Y]   \n",
       "4      MCL      4    1  14           [USP9Y]   \n",
       "5      MCL      5    1   7             [ZFY]   \n",
       "6      MCL      6    1   5           [TSPY1]   \n",
       "7      MCL      7    1   4            [CDY1]   \n",
       "8      MCL      8    2  15  [RPS4Y2, RPS4Y1]   \n",
       "9      MCL      9    1  21         [RBMY1A1]   \n",
       "10     MCL     10    1   2           [CDY1B]   \n",
       "11     MCL     11    1   8          [RBMY1F]   \n",
       "12     MCL     12    1  31           [TBL1Y]   \n",
       "\n",
       "                                                 g_id   p_value  \n",
       "0   [POT1, TERF1, ACTA1, TMSB4Y, ACTG1, EWSR1, TER...    0.6224  \n",
       "1                  [AR, HIST3H3, PCGF6, KDM5D, KMT2A]  0.422732  \n",
       "2   [HDAC3, WDR5, Pou3f3, Tcf12, Xpo4, SLC9A3R2, E...   0.99303  \n",
       "3   [NUDCD2, SMAD2, HSCB, CCNB2, WBP4, VHL, PIN1, ...  0.996412  \n",
       "4   [Hsph1, CLK3, SHC1, USP9Y, VSX1, HS2ST1, NCKIP...  0.939496  \n",
       "5      [L3MBTL2, ZFX, ZBTB9, RNF2, NSD1, CACNB3, ZFY]    0.6224  \n",
       "6         [HIST2H2BE, CSNK2A1, EEF1A1, EEF1A2, TSPY1]  0.422732  \n",
       "7                  [CDY1, HIST2H2AC, HIST1H4A, REV3L]  0.305457  \n",
       "8   [CALM1, IGSF8, RPS4Y1, ESR2, CD81, LRRK2, CYLD...  0.839951  \n",
       "9   [HNRNPK, IGF2BP1, AEN, APOBEC3C, CBX2, YWHAE, ...   0.99303  \n",
       "10                                       [CDY1B, UBC]  0.074983  \n",
       "11  [HRP1, RBM10, YTHDC1, ZNF385C, C17orf113, RASD...  0.700967  \n",
       "12  [CCT2, LRIF1, TBL1XR1, GPS2, MAP3K7, CCT6B, TB...  0.999791  "
      ]
     },
     "execution_count": 5,
     "metadata": {},
     "output_type": "execute_result"
    }
   ],
   "source": [
    "df_ui"
   ]
  },
  {
   "cell_type": "code",
   "execution_count": null,
   "metadata": {},
   "outputs": [],
   "source": [
    "df_ii"
   ]
  },
  {
   "cell_type": "code",
   "execution_count": null,
   "metadata": {},
   "outputs": [],
   "source": [
    "df_ui.shape[0]"
   ]
  },
  {
   "cell_type": "code",
   "execution_count": null,
   "metadata": {
    "collapsed": true
   },
   "outputs": [],
   "source": []
  },
  {
   "cell_type": "code",
   "execution_count": null,
   "metadata": {
    "collapsed": true
   },
   "outputs": [],
   "source": []
  },
  {
   "cell_type": "code",
   "execution_count": null,
   "metadata": {
    "collapsed": true
   },
   "outputs": [],
   "source": []
  },
  {
   "cell_type": "code",
   "execution_count": null,
   "metadata": {
    "collapsed": true
   },
   "outputs": [],
   "source": []
  },
  {
   "cell_type": "code",
   "execution_count": null,
   "metadata": {
    "collapsed": true
   },
   "outputs": [],
   "source": []
  },
  {
   "cell_type": "code",
   "execution_count": null,
   "metadata": {
    "collapsed": true
   },
   "outputs": [],
   "source": []
  },
  {
   "cell_type": "code",
   "execution_count": null,
   "metadata": {
    "collapsed": true
   },
   "outputs": [],
   "source": []
  },
  {
   "cell_type": "code",
   "execution_count": null,
   "metadata": {
    "collapsed": true
   },
   "outputs": [],
   "source": []
  },
  {
   "cell_type": "code",
   "execution_count": null,
   "metadata": {
    "collapsed": true
   },
   "outputs": [],
   "source": []
  },
  {
   "cell_type": "code",
   "execution_count": null,
   "metadata": {
    "collapsed": true
   },
   "outputs": [],
   "source": []
  },
  {
   "cell_type": "code",
   "execution_count": null,
   "metadata": {
    "collapsed": true
   },
   "outputs": [],
   "source": []
  },
  {
   "cell_type": "code",
   "execution_count": null,
   "metadata": {
    "collapsed": true
   },
   "outputs": [],
   "source": []
  },
  {
   "cell_type": "code",
   "execution_count": null,
   "metadata": {
    "scrolled": true
   },
   "outputs": [],
   "source": []
  },
  {
   "cell_type": "markdown",
   "metadata": {},
   "source": [
    "## LCC for ii - LOUVAIN"
   ]
  },
  {
   "cell_type": "code",
   "execution_count": null,
   "metadata": {},
   "outputs": [],
   "source": [
    "# read data and create graph\n",
    "ii = read_graph(\"ii\")\n",
    "\n",
    "# find LCC\n",
    "G_ii = max(nx.connected_component_subgraphs(ii), key=len)\n",
    "\n",
    "# community - LOUVAIN \n",
    "partition_ii = community.best_partition(G_ii)\n"
   ]
  },
  {
   "cell_type": "code",
   "execution_count": null,
   "metadata": {},
   "outputs": [],
   "source": [
    "nx.draw(G_ii, node_size=3)\n",
    "plt.show()"
   ]
  },
  {
   "cell_type": "code",
   "execution_count": null,
   "metadata": {
    "collapsed": true
   },
   "outputs": [],
   "source": []
  },
  {
   "cell_type": "code",
   "execution_count": null,
   "metadata": {
    "scrolled": true
   },
   "outputs": [],
   "source": [
    "#drawing\n",
    "size = float(len(set(partition_ii.values())))\n",
    "pos = nx.spring_layout(G_ii)\n",
    "count = 0.\n",
    "for com in set(partition_ii.values()) :\n",
    "    count = count + 1.\n",
    "    list_nodes = [nodes for nodes in partition_ii.keys()\n",
    "                                if partition_ii[nodes] == com]\n",
    "    nx.draw_networkx_nodes(G_ii, pos, list_nodes, node_size = 20,\n",
    "                                node_color = str(count / size))\n",
    "\n",
    "\n",
    "nx.draw_networkx_edges(G_ii, pos, alpha=0.5)\n",
    "plt.show()"
   ]
  },
  {
   "cell_type": "code",
   "execution_count": null,
   "metadata": {
    "collapsed": true
   },
   "outputs": [],
   "source": []
  },
  {
   "cell_type": "markdown",
   "metadata": {},
   "source": [
    "## LCC - ui - LOUVAIN"
   ]
  },
  {
   "cell_type": "code",
   "execution_count": null,
   "metadata": {
    "collapsed": true
   },
   "outputs": [],
   "source": [
    "# read data and create graph\n",
    "ui = read_graph(\"ui\")\n",
    "\n",
    "# find LCC\n",
    "G_ui = max(nx.connected_component_subgraphs(ui), key=len)\n",
    "\n",
    "# community - LOUVAIN \n",
    "partition_ui = community.best_partition(G_ui)"
   ]
  },
  {
   "cell_type": "code",
   "execution_count": null,
   "metadata": {},
   "outputs": [],
   "source": [
    "#drawing\n",
    "size = float(len(set(partition_ui.values())))\n",
    "pos = nx.spring_layout(G_ui)\n",
    "count = 0.\n",
    "for com in set(partition_ui.values()) :\n",
    "    count = count + 1.\n",
    "    list_nodes = [nodes for nodes in partition_ui.keys()\n",
    "                                if partition_ui[nodes] == com]\n",
    "    nx.draw_networkx_nodes(G_ui, pos, list_nodes, node_size = 20,\n",
    "                                node_color = str(count / size))\n",
    "\n",
    "\n",
    "nx.draw_networkx_edges(G_ui, pos, alpha=0.5)\n",
    "plt.show()"
   ]
  },
  {
   "cell_type": "code",
   "execution_count": null,
   "metadata": {
    "collapsed": true
   },
   "outputs": [],
   "source": []
  },
  {
   "cell_type": "code",
   "execution_count": null,
   "metadata": {
    "collapsed": true
   },
   "outputs": [],
   "source": []
  },
  {
   "cell_type": "code",
   "execution_count": null,
   "metadata": {
    "collapsed": true
   },
   "outputs": [],
   "source": []
  },
  {
   "cell_type": "markdown",
   "metadata": {},
   "source": [
    "## LCC - ii - MCL"
   ]
  },
  {
   "cell_type": "code",
   "execution_count": null,
   "metadata": {
    "collapsed": true
   },
   "outputs": [],
   "source": [
    "ii_mat = nx.to_numpy_matrix(G_ii)"
   ]
  },
  {
   "cell_type": "code",
   "execution_count": null,
   "metadata": {},
   "outputs": [],
   "source": [
    "#### hyperparameters\n",
    "\n",
    "# perform clustering using different inflation values from 1.5 and 2.5\n",
    "# for each clustering run, calculate the modularity\n",
    "infl_lst = []\n",
    "for inflation in [i/10 for i in range(15, 26)]:\n",
    "    result = mc.run_mcl(ii_mat, inflation=inflation)\n",
    "    clusters = mc.get_clusters(result)\n",
    "    Q = mc.modularity(matrix=np.asmatrix(result), clusters=clusters)\n",
    "    infl_lst.append((Q, inflation))\n",
    "\n",
    "max_infl_ii = max(infl_lst)[1]"
   ]
  },
  {
   "cell_type": "code",
   "execution_count": null,
   "metadata": {
    "collapsed": true
   },
   "outputs": [],
   "source": [
    "result_ii = mc.run_mcl(ii_mat, inflation = max_infl_ii)\n",
    "clusters_ii = mc.get_clusters(result)"
   ]
  },
  {
   "cell_type": "code",
   "execution_count": null,
   "metadata": {},
   "outputs": [],
   "source": [
    "mc.draw_graph(ii_mat, clusters, node_size=50, with_labels=False, edge_color=\"silver\")"
   ]
  },
  {
   "cell_type": "code",
   "execution_count": null,
   "metadata": {
    "collapsed": true
   },
   "outputs": [],
   "source": []
  },
  {
   "cell_type": "code",
   "execution_count": null,
   "metadata": {},
   "outputs": [],
   "source": [
    "list(G_ui.nodes())[0]"
   ]
  },
  {
   "cell_type": "markdown",
   "metadata": {},
   "source": [
    "## LCC - ui - MCL"
   ]
  },
  {
   "cell_type": "code",
   "execution_count": null,
   "metadata": {
    "collapsed": true
   },
   "outputs": [],
   "source": []
  },
  {
   "cell_type": "code",
   "execution_count": null,
   "metadata": {
    "collapsed": true
   },
   "outputs": [],
   "source": [
    "ui_mat = nx.to_numpy_matrix(G_ui)\n",
    "\n",
    "# map node name to numbers\n",
    "lbls = {}\n",
    "for k in range(len(G_ui)):\n",
    "    lbls[k] = list(G_ui.nodes())[k]"
   ]
  },
  {
   "cell_type": "code",
   "execution_count": null,
   "metadata": {
    "collapsed": true
   },
   "outputs": [],
   "source": [
    "#### hyperparameters\n",
    "\n",
    "# perform clustering using different inflation values from 1.5 and 2.5\n",
    "# for each clustering run, calculate the modularity\n",
    "infl_lst = []\n",
    "for inflation in [i/10 for i in range(15, 26)]:\n",
    "    result = mc.run_mcl(ui_mat, inflation=inflation)\n",
    "    clusters = mc.get_clusters(result)\n",
    "    Q = mc.modularity(matrix=np.asmatrix(result), clusters=clusters)\n",
    "    infl_lst.append((Q, inflation))\n",
    "\n",
    "max_infl_ui = max(infl_lst)[1]"
   ]
  },
  {
   "cell_type": "code",
   "execution_count": null,
   "metadata": {},
   "outputs": [],
   "source": [
    "result_ui = mc.run_mcl(ui_mat, inflation = max_infl_ui)\n",
    "clusters_ui = mc.get_clusters(result)\n",
    "\n",
    "# use labels\n",
    "for i in range(len(clusters_ui)):\n",
    "    clusters_ui[i] = [lbls.get(item, item) for item in clusters_ui[i]]"
   ]
  },
  {
   "cell_type": "code",
   "execution_count": null,
   "metadata": {},
   "outputs": [],
   "source": [
    "mc.draw_graph(ui_mat, clusters, node_size=50, with_labels=False, edge_color=\"silver\")"
   ]
  },
  {
   "cell_type": "code",
   "execution_count": null,
   "metadata": {
    "scrolled": true
   },
   "outputs": [],
   "source": []
  },
  {
   "cell_type": "markdown",
   "metadata": {},
   "source": [
    "## MCL - ui - test ipergeometrico"
   ]
  },
  {
   "cell_type": "code",
   "execution_count": null,
   "metadata": {
    "collapsed": true
   },
   "outputs": [],
   "source": [
    "def hypergeom_test(mod, genes, G_lcc):\n",
    "    \n",
    "    M = len(G_lcc.nodes())\n",
    "    n = len(genes)\n",
    "    N = len(mod)\n",
    "    x = len(set(genes).intersection(set(prova)))\n",
    "    \n",
    "    pval = hypergeom.cdf(x, M, n, N)\n",
    "    \n",
    "    return(pval)\n"
   ]
  },
  {
   "cell_type": "code",
   "execution_count": null,
   "metadata": {},
   "outputs": [],
   "source": [
    "# find modules with more than 10 nodes \n",
    "#mod_10_ii = [i for i in clusters_ii if len(i) >=10]\n",
    "mod_10_ui = [i for i in clusters_ui if len(i) >=10]"
   ]
  },
  {
   "cell_type": "code",
   "execution_count": null,
   "metadata": {
    "scrolled": true
   },
   "outputs": [],
   "source": [
    "prova = mod_10_ui[2]\n",
    "prova"
   ]
  },
  {
   "cell_type": "code",
   "execution_count": null,
   "metadata": {},
   "outputs": [],
   "source": [
    "####### test ipergeometrico sui seed genes!!!!\n",
    "\n",
    "# x-1\n",
    "# M -> population size\n",
    "# n -> number of successes in the population\n",
    "# N -> is the sample size \n",
    "# x -> numero seed genes nel cluster "
   ]
  },
  {
   "cell_type": "code",
   "execution_count": null,
   "metadata": {
    "collapsed": true
   },
   "outputs": [],
   "source": [
    "with open(\"seed_genes.txt\",\"r\") as f:\n",
    "    genes = [gene.rstrip() for gene in f.readlines()]"
   ]
  },
  {
   "cell_type": "code",
   "execution_count": null,
   "metadata": {},
   "outputs": [],
   "source": []
  },
  {
   "cell_type": "code",
   "execution_count": null,
   "metadata": {},
   "outputs": [],
   "source": [
    "M = len(G_ui.nodes())\n",
    "n = len(genes)\n",
    "N = len(prova)\n",
    "x = len(set(genes).intersection(set(prova)))"
   ]
  },
  {
   "cell_type": "code",
   "execution_count": null,
   "metadata": {},
   "outputs": [],
   "source": [
    "from scipy.stats import hypergeom\n",
    "pval = hypergeom.cdf(x, M, n, N)\n",
    "pval"
   ]
  },
  {
   "cell_type": "code",
   "execution_count": null,
   "metadata": {},
   "outputs": [],
   "source": []
  },
  {
   "cell_type": "code",
   "execution_count": null,
   "metadata": {
    "collapsed": true
   },
   "outputs": [],
   "source": []
  },
  {
   "cell_type": "code",
   "execution_count": null,
   "metadata": {
    "collapsed": true
   },
   "outputs": [],
   "source": [
    "# https://github.com/GuyAllard/markov_clustering\n",
    "\n",
    "# https://blog.alexlenail.me/understanding-and-implementing-the-hypergeometric-test-in-python-a7db688a7458\n",
    "\n",
    "# https://www.biostars.org/p/66729/\n",
    "\n",
    "# "
   ]
  }
 ],
 "metadata": {
  "kernelspec": {
   "display_name": "Python 3",
   "language": "python",
   "name": "python3"
  },
  "language_info": {
   "codemirror_mode": {
    "name": "ipython",
    "version": 3
   },
   "file_extension": ".py",
   "mimetype": "text/x-python",
   "name": "python",
   "nbconvert_exporter": "python",
   "pygments_lexer": "ipython3",
   "version": "3.6.2"
  }
 },
 "nbformat": 4,
 "nbformat_minor": 2
}
