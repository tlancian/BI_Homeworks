{
 "cells": [
  {
   "cell_type": "code",
   "execution_count": 1,
   "metadata": {},
   "outputs": [
    {
     "data": {
      "text/html": [
       "<style>.container { width:80% !important; }</style>"
      ],
      "text/plain": [
       "<IPython.core.display.HTML object>"
      ]
     },
     "metadata": {},
     "output_type": "display_data"
    }
   ],
   "source": [
    "from IPython.core.display import display, HTML\n",
    "display(HTML(\"<style>.container { width:80% !important; }</style>\"))"
   ]
  },
  {
   "cell_type": "code",
   "execution_count": 2,
   "metadata": {
    "collapsed": true
   },
   "outputs": [],
   "source": [
    "import networkx as nx\n",
    "import pandas as pd\n",
    "import markov_clustering as mc\n",
    "import community\n",
    "import matplotlib.pyplot as plt\n",
    "import numpy as np\n",
    "\n",
    "import utils as ut"
   ]
  },
  {
   "cell_type": "code",
   "execution_count": null,
   "metadata": {},
   "outputs": [],
   "source": [
    "def read_graph(file):\n",
    "    \n",
    "    G = nx.Graph()\n",
    "    \n",
    "    with open(\"../interactomes/\"+file+\".tsv\", \"r\") as f:\n",
    "        for row in f.readlines()[1:]:\n",
    "            edge = row[:-1].split(\"\\t\")\n",
    "            G.add_edge(edge[0],edge[1])\n",
    "    \n",
    "    return G\n",
    "\n",
    "\n",
    "def find_best_inflation(mat):\n",
    "    \n",
    "    infl_lst = []\n",
    "    for inflation in [i/10 for i in range(15, 26)]:\n",
    "        \n",
    "        result = mc.run_mcl(mat, inflation=inflation)\n",
    "        clusters = mc.get_clusters(result)\n",
    "        Q = mc.modularity(matrix=np.asmatrix(result), clusters=clusters)\n",
    "        infl_lst.append((Q, inflation))\n",
    "    \n",
    "    return(max(infl_lst)[1])\n",
    "\n",
    "def get_labels(G_lcc, clusters):\n",
    "    \n",
    "    # map node name to numbers\n",
    "    lbls = {}\n",
    "    for k in range(len(G_lcc)):\n",
    "        lbls[k] = list(G_lcc.nodes())[k]\n",
    "\n",
    "    # use labels\n",
    "    for i in range(len(clusters)):\n",
    "        clusters[i] = [lbls.get(item, item) for item in clusters[i]]\n",
    "    \n",
    "    return(clusters)\n",
    "\n",
    "\n",
    "def MCL(G_lcc):\n",
    "    \n",
    "    mat = nx.to_numpy_matrix(G_lcc)\n",
    "    \n",
    "    # find best inflation\n",
    "    max_infl = find_best_inflation(mat)\n",
    "    \n",
    "    result = mc.run_mcl(mat, inflation = max_infl)\n",
    "    clusters = mc.get_clusters(result)\n",
    "    \n",
    "    # return name of genes\n",
    "    return(get_labels(G_lcc, clusters))\n",
    "\n",
    "\n",
    "def louvain(G_lcc):\n",
    "    \n",
    "    partition = community.best_partition(G_lcc)\n",
    "    clusters = [] \n",
    "    for com in set(partition.values()) :\n",
    "        list_nodes = [nodes for nodes in partition.keys() if partition[nodes] == com]\n",
    "        clusters.append(list_nodes)\n",
    "\n",
    "    return(clusters)\n",
    "\n",
    "\n",
    "def hypergeom_test(mod, genes, G_lcc):\n",
    "    \n",
    "    M = len(G_lcc.nodes())\n",
    "    n = len(genes)\n",
    "    N = len(mod)\n",
    "    x = len(set(genes).intersection(set(mod)))\n",
    "    \n",
    "    pval = hypergeom.cdf(x, M, n, N)\n",
    "    \n",
    "    return(pval, x, M, n, N)\n",
    "\n",
    "\n",
    "\n",
    "def find_modules(clusters):\n",
    "    modules = [i for i in clusters if len(i) >=10]\n",
    "    \n",
    "    return(modules)\n"
   ]
  },
  {
   "cell_type": "code",
   "execution_count": 3,
   "metadata": {},
   "outputs": [
    {
     "data": {
      "text/html": [
       "<div>\n",
       "<style>\n",
       "    .dataframe thead tr:only-child th {\n",
       "        text-align: right;\n",
       "    }\n",
       "\n",
       "    .dataframe thead th {\n",
       "        text-align: left;\n",
       "    }\n",
       "\n",
       "    .dataframe tbody tr th {\n",
       "        vertical-align: top;\n",
       "    }\n",
       "</style>\n",
       "<table border=\"1\" class=\"dataframe\">\n",
       "  <thead>\n",
       "    <tr style=\"text-align: right;\">\n",
       "      <th></th>\n",
       "      <th>cl_algo</th>\n",
       "      <th>mod_id</th>\n",
       "      <th>n_sg</th>\n",
       "      <th>n_g</th>\n",
       "      <th>sg_id</th>\n",
       "      <th>g_id</th>\n",
       "      <th>p_value</th>\n",
       "    </tr>\n",
       "  </thead>\n",
       "  <tbody>\n",
       "  </tbody>\n",
       "</table>\n",
       "</div>"
      ],
      "text/plain": [
       "Empty DataFrame\n",
       "Columns: [cl_algo, mod_id, n_sg, n_g, sg_id, g_id, p_value]\n",
       "Index: []"
      ]
     },
     "execution_count": 3,
     "metadata": {},
     "output_type": "execute_result"
    }
   ],
   "source": [
    "# Initialize the gene list\n",
    "with open(\"seed_genes.txt\",\"r\") as f:\n",
    "    genes = [gene.rstrip() for gene in f.readlines()]\n",
    "\n",
    "\n",
    "### read data\n",
    "\n",
    "ii = ut.read_graph(\"ii\")\n",
    "ui = ut.read_graph(\"ui\")\n",
    "\n",
    "# get LCC\n",
    "G_ii = max(nx.connected_component_subgraphs(ii), key=len)\n",
    "G_ui = max(nx.connected_component_subgraphs(ui), key=len)\n",
    "\n",
    "\n",
    "### LOUVAIN \n",
    "\n",
    "cl_ii_lou = ut.louvain(G_ii)\n",
    "cl_ui_lou = ut.louvain(G_ui)\n",
    "\n",
    "\n",
    "### MCL\n",
    "\n",
    "cl_ii_mcl = ut.MCL(G_ii)\n",
    "cl_ui_mcl = ut.MCL(G_ui)\n",
    "\n",
    "\n",
    "# create table\n",
    "col_lst = ['cl_algo', 'mod_id', 'n_sg', 'n_g', 'sg_id', 'g_id', 'p_value']\n",
    "df_ui = pd.DataFrame(data=None, columns = col_lst)\n",
    "df_ii = pd.DataFrame(data=None, columns = col_lst)\n",
    "\n",
    "\n",
    "### hypergeometric test - ui, MCL\n",
    "df_ui = pd.DataFrame(data=None, columns = col_lst)\n",
    "r = df_ui.shape[0]\n",
    "for idx, c in enumerate(cl_ui_mcl):\n",
    "    df_ui.loc[r+idx, 'cl_algo'] = 'MCL'\n",
    "    df_ui.loc[r+idx, 'mod_id'] = idx\n",
    "    df_ui.loc[r+idx, 'n_sg'] = ut.hypergeom_test(c, genes, G_ui)[1]\n",
    "    df_ui.loc[r+idx, 'n_g'] = ut.hypergeom_test(c, genes, G_ui)[4]\n",
    "    df_ui.loc[r+idx, 'sg_id'] = list(set(genes).intersection(set(c)))\n",
    "    df_ui.loc[r+idx, 'g_id'] = list(set(c))\n",
    "    df_ui.loc[r+idx, 'p_value'] = ut.hypergeom_test(c, genes, G_ui)[0]\n",
    "\n",
    "       \n",
    "        \n",
    "\n",
    "### hypergeometric test - ii, MCL\n",
    "\n",
    "df_ii = pd.DataFrame(data=None, columns = col_lst)\n",
    "r = df_ii.shape[0]\n",
    "for idx, c in enumerate(cl_ii_mcl):\n",
    "    df_ii.loc[r+idx, 'cl_algo'] = 'MCL'\n",
    "    df_ii.loc[r+idx, 'mod_id'] = idx\n",
    "    df_ii.loc[r+idx, 'n_sg'] = ut.hypergeom_test(c, genes, G_ii)[1]\n",
    "    df_ii.loc[r+idx, 'n_g'] = ut.hypergeom_test(c, genes, G_ii)[4]\n",
    "    df_ii.loc[r+idx, 'sg_id'] = list(set(genes).intersection(set(c)))\n",
    "    df_ii.loc[r+idx, 'g_id'] = list(set(c))\n",
    "    df_ii.loc[r+idx, 'p_value'] = ut.hypergeom_test(c, genes, G_ii)[0]\n",
    "\n",
    "\n",
    "### hypergeometric test - ui, Louvain\n",
    "\n",
    "r = df_ui.shape[0]\n",
    "for idx, c in enumerate(cl_ui_lou):\n",
    "    df_ui.loc[r+idx, 'cl_algo'] = 'Louvain'\n",
    "    df_ui.loc[r+idx, 'mod_id'] = idx\n",
    "    df_ui.loc[r+idx, 'n_sg'] = ut.hypergeom_test(c, genes, G_ui)[1]\n",
    "    df_ui.loc[r+idx, 'n_g'] = ut.hypergeom_test(c, genes, G_ui)[4]\n",
    "    df_ui.loc[r+idx, 'sg_id'] = list(set(genes).intersection(set(c)))\n",
    "    df_ui.loc[r+idx, 'g_id'] = list(set(c))\n",
    "    df_ui.loc[r+idx, 'p_value'] = ut.hypergeom_test(c, genes, G_ui)[0]\n",
    "\n",
    "### hypergeometric test - ii, Louvain\n",
    "\n",
    "r = df_ii.shape[0]\n",
    "for idx, c in enumerate(cl_ii_lou):\n",
    "    df_ii.loc[r+idx, 'cl_algo'] = 'Louvain'\n",
    "    df_ii.loc[r+idx, 'mod_id'] = idx\n",
    "    df_ii.loc[r+idx, 'n_sg'] = ut.hypergeom_test(c, genes, G_ii)[1]\n",
    "    df_ii.loc[r+idx, 'n_g'] = ut.hypergeom_test(c, genes, G_ii)[4]\n",
    "    df_ii.loc[r+idx, 'sg_id'] = list(set(genes).intersection(set(c)))\n",
    "    df_ii.loc[r+idx, 'g_id'] = list(set(c))\n",
    "    df_ii.loc[r+idx, 'p_value'] = ut.hypergeom_test(c, genes, G_ii)[0]\n",
    "\n",
    "\n",
    "#save\n",
    "\n",
    "df_ui.to_csv('results/df_ui.csv')\n",
    "df_ii.to_csv('results/df_ii.csv')\n",
    "\n",
    "\n",
    "# get putative disease modules\n",
    "#df_ui[(df_ui.n_g >= 10) & (df_ui.p_value < 0.05)]\n"
   ]
  },
  {
   "cell_type": "code",
   "execution_count": 4,
   "metadata": {
    "scrolled": true
   },
   "outputs": [
    {
     "data": {
      "text/html": [
       "<div>\n",
       "<style>\n",
       "    .dataframe thead tr:only-child th {\n",
       "        text-align: right;\n",
       "    }\n",
       "\n",
       "    .dataframe thead th {\n",
       "        text-align: left;\n",
       "    }\n",
       "\n",
       "    .dataframe tbody tr th {\n",
       "        vertical-align: top;\n",
       "    }\n",
       "</style>\n",
       "<table border=\"1\" class=\"dataframe\">\n",
       "  <thead>\n",
       "    <tr style=\"text-align: right;\">\n",
       "      <th></th>\n",
       "      <th>cl_algo</th>\n",
       "      <th>mod_id</th>\n",
       "      <th>n_sg</th>\n",
       "      <th>n_g</th>\n",
       "      <th>sg_id</th>\n",
       "      <th>g_id</th>\n",
       "      <th>p_value</th>\n",
       "    </tr>\n",
       "  </thead>\n",
       "  <tbody>\n",
       "    <tr>\n",
       "      <th>0</th>\n",
       "      <td>MCL</td>\n",
       "      <td>0</td>\n",
       "      <td>1</td>\n",
       "      <td>7</td>\n",
       "      <td>[TMSB4Y]</td>\n",
       "      <td>[TERF2IP, ACTA1, POT1, TERF1, ACTG1, EWSR1, TM...</td>\n",
       "      <td>0.900957</td>\n",
       "    </tr>\n",
       "    <tr>\n",
       "      <th>1</th>\n",
       "      <td>MCL</td>\n",
       "      <td>1</td>\n",
       "      <td>1</td>\n",
       "      <td>5</td>\n",
       "      <td>[KDM5D]</td>\n",
       "      <td>[PCGF6, KDM5D, HIST3H3, AR, KMT2A]</td>\n",
       "      <td>0.805874</td>\n",
       "    </tr>\n",
       "    <tr>\n",
       "      <th>2</th>\n",
       "      <td>MCL</td>\n",
       "      <td>2</td>\n",
       "      <td>1</td>\n",
       "      <td>21</td>\n",
       "      <td>[SRY]</td>\n",
       "      <td>[Cebpa, SLC9A3R2, WDR5, Jun, Utf1, Egr2, SMAD3...</td>\n",
       "      <td>0.999345</td>\n",
       "    </tr>\n",
       "    <tr>\n",
       "      <th>3</th>\n",
       "      <td>MCL</td>\n",
       "      <td>3</td>\n",
       "      <td>1</td>\n",
       "      <td>23</td>\n",
       "      <td>[DDX3Y]</td>\n",
       "      <td>[WWOX, HSCB, DDX3Y, SRC, SAP25, NUDCD2, ODF2, ...</td>\n",
       "      <td>0.999695</td>\n",
       "    </tr>\n",
       "    <tr>\n",
       "      <th>4</th>\n",
       "      <td>MCL</td>\n",
       "      <td>4</td>\n",
       "      <td>1</td>\n",
       "      <td>14</td>\n",
       "      <td>[USP9Y]</td>\n",
       "      <td>[CLK3, PMS1, KRAS, USP9Y, ABRAXAS2, Hsph1, ZNF...</td>\n",
       "      <td>0.991357</td>\n",
       "    </tr>\n",
       "    <tr>\n",
       "      <th>5</th>\n",
       "      <td>MCL</td>\n",
       "      <td>5</td>\n",
       "      <td>1</td>\n",
       "      <td>7</td>\n",
       "      <td>[ZFY]</td>\n",
       "      <td>[CACNB3, ZFY, L3MBTL2, ZBTB9, RNF2, ZFX, NSD1]</td>\n",
       "      <td>0.900957</td>\n",
       "    </tr>\n",
       "    <tr>\n",
       "      <th>6</th>\n",
       "      <td>MCL</td>\n",
       "      <td>6</td>\n",
       "      <td>1</td>\n",
       "      <td>5</td>\n",
       "      <td>[TSPY1]</td>\n",
       "      <td>[HIST2H2BE, TSPY1, CSNK2A1, EEF1A1, EEF1A2]</td>\n",
       "      <td>0.805874</td>\n",
       "    </tr>\n",
       "    <tr>\n",
       "      <th>7</th>\n",
       "      <td>MCL</td>\n",
       "      <td>7</td>\n",
       "      <td>1</td>\n",
       "      <td>4</td>\n",
       "      <td>[CDY1]</td>\n",
       "      <td>[HIST2H2AC, HIST1H4A, REV3L, CDY1]</td>\n",
       "      <td>0.729246</td>\n",
       "    </tr>\n",
       "    <tr>\n",
       "      <th>8</th>\n",
       "      <td>MCL</td>\n",
       "      <td>8</td>\n",
       "      <td>2</td>\n",
       "      <td>15</td>\n",
       "      <td>[RPS4Y1, RPS4Y2]</td>\n",
       "      <td>[ZNF746, CD81, RPS4Y1, RPS4Y2, CALM1, CSNK1E, ...</td>\n",
       "      <td>0.95481</td>\n",
       "    </tr>\n",
       "    <tr>\n",
       "      <th>9</th>\n",
       "      <td>MCL</td>\n",
       "      <td>9</td>\n",
       "      <td>1</td>\n",
       "      <td>21</td>\n",
       "      <td>[RBMY1A1]</td>\n",
       "      <td>[LNX1, RBMX, HNRNPK, PCDHB14, AEN, YWHAE, CBX2...</td>\n",
       "      <td>0.999345</td>\n",
       "    </tr>\n",
       "    <tr>\n",
       "      <th>10</th>\n",
       "      <td>MCL</td>\n",
       "      <td>10</td>\n",
       "      <td>1</td>\n",
       "      <td>2</td>\n",
       "      <td>[CDY1B]</td>\n",
       "      <td>[CDY1B, UBC]</td>\n",
       "      <td>0.477164</td>\n",
       "    </tr>\n",
       "    <tr>\n",
       "      <th>11</th>\n",
       "      <td>MCL</td>\n",
       "      <td>11</td>\n",
       "      <td>1</td>\n",
       "      <td>8</td>\n",
       "      <td>[RBMY1F]</td>\n",
       "      <td>[C17orf113, RASD1, RBM10, YTHDC1, RBMY1F, HRP1...</td>\n",
       "      <td>0.929527</td>\n",
       "    </tr>\n",
       "    <tr>\n",
       "      <th>12</th>\n",
       "      <td>MCL</td>\n",
       "      <td>12</td>\n",
       "      <td>1</td>\n",
       "      <td>31</td>\n",
       "      <td>[TBL1Y]</td>\n",
       "      <td>[FOXK2, GPS2, TAB2, TCP1, CAPN15, CCT6A, TBL1X...</td>\n",
       "      <td>0.999988</td>\n",
       "    </tr>\n",
       "    <tr>\n",
       "      <th>13</th>\n",
       "      <td>Louvain</td>\n",
       "      <td>0</td>\n",
       "      <td>1</td>\n",
       "      <td>7</td>\n",
       "      <td>[TMSB4Y]</td>\n",
       "      <td>[TERF2IP, ACTA1, POT1, TERF1, ACTG1, EWSR1, TM...</td>\n",
       "      <td>0.900957</td>\n",
       "    </tr>\n",
       "    <tr>\n",
       "      <th>14</th>\n",
       "      <td>Louvain</td>\n",
       "      <td>1</td>\n",
       "      <td>4</td>\n",
       "      <td>16</td>\n",
       "      <td>[CDY1B, KDM5D, TSPY1, CDY1]</td>\n",
       "      <td>[HIST2H2AC, HIST2H2BE, PCGF6, CDY1B, REV3L, HI...</td>\n",
       "      <td>0.695342</td>\n",
       "    </tr>\n",
       "    <tr>\n",
       "      <th>15</th>\n",
       "      <td>Louvain</td>\n",
       "      <td>2</td>\n",
       "      <td>1</td>\n",
       "      <td>21</td>\n",
       "      <td>[SRY]</td>\n",
       "      <td>[Cebpa, SLC9A3R2, WDR5, Jun, Utf1, Egr2, SMAD3...</td>\n",
       "      <td>0.999345</td>\n",
       "    </tr>\n",
       "    <tr>\n",
       "      <th>16</th>\n",
       "      <td>Louvain</td>\n",
       "      <td>3</td>\n",
       "      <td>1</td>\n",
       "      <td>23</td>\n",
       "      <td>[DDX3Y]</td>\n",
       "      <td>[WWOX, HSCB, DDX3Y, SRC, SAP25, NUDCD2, ODF2, ...</td>\n",
       "      <td>0.999695</td>\n",
       "    </tr>\n",
       "    <tr>\n",
       "      <th>17</th>\n",
       "      <td>Louvain</td>\n",
       "      <td>4</td>\n",
       "      <td>1</td>\n",
       "      <td>14</td>\n",
       "      <td>[USP9Y]</td>\n",
       "      <td>[CLK3, PMS1, KRAS, USP9Y, ABRAXAS2, Hsph1, ZNF...</td>\n",
       "      <td>0.991357</td>\n",
       "    </tr>\n",
       "    <tr>\n",
       "      <th>18</th>\n",
       "      <td>Louvain</td>\n",
       "      <td>5</td>\n",
       "      <td>1</td>\n",
       "      <td>7</td>\n",
       "      <td>[ZFY]</td>\n",
       "      <td>[CACNB3, ZFY, L3MBTL2, ZBTB9, RNF2, ZFX, NSD1]</td>\n",
       "      <td>0.900957</td>\n",
       "    </tr>\n",
       "    <tr>\n",
       "      <th>19</th>\n",
       "      <td>Louvain</td>\n",
       "      <td>6</td>\n",
       "      <td>2</td>\n",
       "      <td>15</td>\n",
       "      <td>[RPS4Y1, RPS4Y2]</td>\n",
       "      <td>[ZNF746, CD81, RPS4Y1, RPS4Y2, CALM1, CSNK1E, ...</td>\n",
       "      <td>0.95481</td>\n",
       "    </tr>\n",
       "    <tr>\n",
       "      <th>20</th>\n",
       "      <td>Louvain</td>\n",
       "      <td>7</td>\n",
       "      <td>2</td>\n",
       "      <td>29</td>\n",
       "      <td>[RBMY1F, RBMY1A1]</td>\n",
       "      <td>[RASD1, RBM10, LNX1, IGF2BP1, RBMX, HNRNPK, PC...</td>\n",
       "      <td>0.999563</td>\n",
       "    </tr>\n",
       "    <tr>\n",
       "      <th>21</th>\n",
       "      <td>Louvain</td>\n",
       "      <td>8</td>\n",
       "      <td>1</td>\n",
       "      <td>31</td>\n",
       "      <td>[TBL1Y]</td>\n",
       "      <td>[FOXK2, GPS2, TAB2, TCP1, CAPN15, CCT6A, TBL1X...</td>\n",
       "      <td>0.999988</td>\n",
       "    </tr>\n",
       "  </tbody>\n",
       "</table>\n",
       "</div>"
      ],
      "text/plain": [
       "    cl_algo mod_id n_sg n_g                        sg_id  \\\n",
       "0       MCL      0    1   7                     [TMSB4Y]   \n",
       "1       MCL      1    1   5                      [KDM5D]   \n",
       "2       MCL      2    1  21                        [SRY]   \n",
       "3       MCL      3    1  23                      [DDX3Y]   \n",
       "4       MCL      4    1  14                      [USP9Y]   \n",
       "5       MCL      5    1   7                        [ZFY]   \n",
       "6       MCL      6    1   5                      [TSPY1]   \n",
       "7       MCL      7    1   4                       [CDY1]   \n",
       "8       MCL      8    2  15             [RPS4Y1, RPS4Y2]   \n",
       "9       MCL      9    1  21                    [RBMY1A1]   \n",
       "10      MCL     10    1   2                      [CDY1B]   \n",
       "11      MCL     11    1   8                     [RBMY1F]   \n",
       "12      MCL     12    1  31                      [TBL1Y]   \n",
       "13  Louvain      0    1   7                     [TMSB4Y]   \n",
       "14  Louvain      1    4  16  [CDY1B, KDM5D, TSPY1, CDY1]   \n",
       "15  Louvain      2    1  21                        [SRY]   \n",
       "16  Louvain      3    1  23                      [DDX3Y]   \n",
       "17  Louvain      4    1  14                      [USP9Y]   \n",
       "18  Louvain      5    1   7                        [ZFY]   \n",
       "19  Louvain      6    2  15             [RPS4Y1, RPS4Y2]   \n",
       "20  Louvain      7    2  29            [RBMY1F, RBMY1A1]   \n",
       "21  Louvain      8    1  31                      [TBL1Y]   \n",
       "\n",
       "                                                 g_id   p_value  \n",
       "0   [TERF2IP, ACTA1, POT1, TERF1, ACTG1, EWSR1, TM...  0.900957  \n",
       "1                  [PCGF6, KDM5D, HIST3H3, AR, KMT2A]  0.805874  \n",
       "2   [Cebpa, SLC9A3R2, WDR5, Jun, Utf1, Egr2, SMAD3...  0.999345  \n",
       "3   [WWOX, HSCB, DDX3Y, SRC, SAP25, NUDCD2, ODF2, ...  0.999695  \n",
       "4   [CLK3, PMS1, KRAS, USP9Y, ABRAXAS2, Hsph1, ZNF...  0.991357  \n",
       "5      [CACNB3, ZFY, L3MBTL2, ZBTB9, RNF2, ZFX, NSD1]  0.900957  \n",
       "6         [HIST2H2BE, TSPY1, CSNK2A1, EEF1A1, EEF1A2]  0.805874  \n",
       "7                  [HIST2H2AC, HIST1H4A, REV3L, CDY1]  0.729246  \n",
       "8   [ZNF746, CD81, RPS4Y1, RPS4Y2, CALM1, CSNK1E, ...   0.95481  \n",
       "9   [LNX1, RBMX, HNRNPK, PCDHB14, AEN, YWHAE, CBX2...  0.999345  \n",
       "10                                       [CDY1B, UBC]  0.477164  \n",
       "11  [C17orf113, RASD1, RBM10, YTHDC1, RBMY1F, HRP1...  0.929527  \n",
       "12  [FOXK2, GPS2, TAB2, TCP1, CAPN15, CCT6A, TBL1X...  0.999988  \n",
       "13  [TERF2IP, ACTA1, POT1, TERF1, ACTG1, EWSR1, TM...  0.900957  \n",
       "14  [HIST2H2AC, HIST2H2BE, PCGF6, CDY1B, REV3L, HI...  0.695342  \n",
       "15  [Cebpa, SLC9A3R2, WDR5, Jun, Utf1, Egr2, SMAD3...  0.999345  \n",
       "16  [WWOX, HSCB, DDX3Y, SRC, SAP25, NUDCD2, ODF2, ...  0.999695  \n",
       "17  [CLK3, PMS1, KRAS, USP9Y, ABRAXAS2, Hsph1, ZNF...  0.991357  \n",
       "18     [CACNB3, ZFY, L3MBTL2, ZBTB9, RNF2, ZFX, NSD1]  0.900957  \n",
       "19  [ZNF746, CD81, RPS4Y1, RPS4Y2, CALM1, CSNK1E, ...   0.95481  \n",
       "20  [RASD1, RBM10, LNX1, IGF2BP1, RBMX, HNRNPK, PC...  0.999563  \n",
       "21  [FOXK2, GPS2, TAB2, TCP1, CAPN15, CCT6A, TBL1X...  0.999988  "
      ]
     },
     "execution_count": 4,
     "metadata": {},
     "output_type": "execute_result"
    }
   ],
   "source": [
    "df_ui"
   ]
  },
  {
   "cell_type": "code",
   "execution_count": 5,
   "metadata": {
    "scrolled": true
   },
   "outputs": [
    {
     "data": {
      "text/html": [
       "<div>\n",
       "<style>\n",
       "    .dataframe thead tr:only-child th {\n",
       "        text-align: right;\n",
       "    }\n",
       "\n",
       "    .dataframe thead th {\n",
       "        text-align: left;\n",
       "    }\n",
       "\n",
       "    .dataframe tbody tr th {\n",
       "        vertical-align: top;\n",
       "    }\n",
       "</style>\n",
       "<table border=\"1\" class=\"dataframe\">\n",
       "  <thead>\n",
       "    <tr style=\"text-align: right;\">\n",
       "      <th></th>\n",
       "      <th>cl_algo</th>\n",
       "      <th>mod_id</th>\n",
       "      <th>n_sg</th>\n",
       "      <th>n_g</th>\n",
       "      <th>sg_id</th>\n",
       "      <th>g_id</th>\n",
       "      <th>p_value</th>\n",
       "    </tr>\n",
       "  </thead>\n",
       "  <tbody>\n",
       "    <tr>\n",
       "      <th>0</th>\n",
       "      <td>MCL</td>\n",
       "      <td>0</td>\n",
       "      <td>1</td>\n",
       "      <td>6</td>\n",
       "      <td>[TMSB4Y]</td>\n",
       "      <td>[TERF2IP, ACTA1, POT1, TERF1, EWSR1, TMSB4Y]</td>\n",
       "      <td>0.970306</td>\n",
       "    </tr>\n",
       "    <tr>\n",
       "      <th>1</th>\n",
       "      <td>MCL</td>\n",
       "      <td>1</td>\n",
       "      <td>1</td>\n",
       "      <td>8</td>\n",
       "      <td>[SRY]</td>\n",
       "      <td>[SMAD3, SP1, HDAC3, SRY, WDR5, EP300, AR, KPNB1]</td>\n",
       "      <td>0.991391</td>\n",
       "    </tr>\n",
       "    <tr>\n",
       "      <th>2</th>\n",
       "      <td>MCL</td>\n",
       "      <td>2</td>\n",
       "      <td>1</td>\n",
       "      <td>16</td>\n",
       "      <td>[DDX3Y]</td>\n",
       "      <td>[SMAD2, POC1A, SHBG, SAP25, WWOX, CRY2, DDX3Y,...</td>\n",
       "      <td>0.999959</td>\n",
       "    </tr>\n",
       "    <tr>\n",
       "      <th>3</th>\n",
       "      <td>MCL</td>\n",
       "      <td>3</td>\n",
       "      <td>1</td>\n",
       "      <td>11</td>\n",
       "      <td>[USP9Y]</td>\n",
       "      <td>[CLK3, PMS1, USP9Y, HS2ST1, UBC, NCKIPSD, ZNF3...</td>\n",
       "      <td>0.998745</td>\n",
       "    </tr>\n",
       "    <tr>\n",
       "      <th>4</th>\n",
       "      <td>MCL</td>\n",
       "      <td>4</td>\n",
       "      <td>1</td>\n",
       "      <td>6</td>\n",
       "      <td>[ZFY]</td>\n",
       "      <td>[CACNB3, ZFY, ZBTB9, RNF2, ZFX, NSD1]</td>\n",
       "      <td>0.970306</td>\n",
       "    </tr>\n",
       "    <tr>\n",
       "      <th>5</th>\n",
       "      <td>MCL</td>\n",
       "      <td>5</td>\n",
       "      <td>2</td>\n",
       "      <td>20</td>\n",
       "      <td>[RBMY1F, RBMY1A1]</td>\n",
       "      <td>[RASD1, RBM3, HNRNPK, APOBEC3C, DAAM2, PCDHB14...</td>\n",
       "      <td>0.999949</td>\n",
       "    </tr>\n",
       "    <tr>\n",
       "      <th>6</th>\n",
       "      <td>MCL</td>\n",
       "      <td>6</td>\n",
       "      <td>2</td>\n",
       "      <td>10</td>\n",
       "      <td>[RPS4Y1, RPS4Y2]</td>\n",
       "      <td>[ZNF746, CD81, RPS4Y1, RPS4Y2, CLK1, CSNK1E, I...</td>\n",
       "      <td>0.975929</td>\n",
       "    </tr>\n",
       "    <tr>\n",
       "      <th>7</th>\n",
       "      <td>MCL</td>\n",
       "      <td>7</td>\n",
       "      <td>1</td>\n",
       "      <td>27</td>\n",
       "      <td>[TBL1Y]</td>\n",
       "      <td>[FOXK2, GPS2, TCP1, CAPN15, CCT6A, TBL1X, NCOR...</td>\n",
       "      <td>1</td>\n",
       "    </tr>\n",
       "    <tr>\n",
       "      <th>8</th>\n",
       "      <td>Louvain</td>\n",
       "      <td>0</td>\n",
       "      <td>1</td>\n",
       "      <td>6</td>\n",
       "      <td>[TMSB4Y]</td>\n",
       "      <td>[TERF2IP, ACTA1, POT1, TERF1, EWSR1, TMSB4Y]</td>\n",
       "      <td>0.970306</td>\n",
       "    </tr>\n",
       "    <tr>\n",
       "      <th>9</th>\n",
       "      <td>Louvain</td>\n",
       "      <td>1</td>\n",
       "      <td>1</td>\n",
       "      <td>8</td>\n",
       "      <td>[SRY]</td>\n",
       "      <td>[SMAD3, SP1, HDAC3, SRY, WDR5, EP300, AR, KPNB1]</td>\n",
       "      <td>0.991391</td>\n",
       "    </tr>\n",
       "    <tr>\n",
       "      <th>10</th>\n",
       "      <td>Louvain</td>\n",
       "      <td>2</td>\n",
       "      <td>1</td>\n",
       "      <td>16</td>\n",
       "      <td>[DDX3Y]</td>\n",
       "      <td>[SMAD2, POC1A, SHBG, SAP25, WWOX, CRY2, DDX3Y,...</td>\n",
       "      <td>0.999959</td>\n",
       "    </tr>\n",
       "    <tr>\n",
       "      <th>11</th>\n",
       "      <td>Louvain</td>\n",
       "      <td>3</td>\n",
       "      <td>1</td>\n",
       "      <td>11</td>\n",
       "      <td>[USP9Y]</td>\n",
       "      <td>[CLK3, PMS1, USP9Y, HS2ST1, UBC, NCKIPSD, ZNF3...</td>\n",
       "      <td>0.998745</td>\n",
       "    </tr>\n",
       "    <tr>\n",
       "      <th>12</th>\n",
       "      <td>Louvain</td>\n",
       "      <td>4</td>\n",
       "      <td>3</td>\n",
       "      <td>16</td>\n",
       "      <td>[ZFY, RPS4Y1, RPS4Y2]</td>\n",
       "      <td>[ZNF746, RPS4Y1, CD81, RPS4Y2, CLK1, CSNK1E, C...</td>\n",
       "      <td>0.994321</td>\n",
       "    </tr>\n",
       "    <tr>\n",
       "      <th>13</th>\n",
       "      <td>Louvain</td>\n",
       "      <td>5</td>\n",
       "      <td>2</td>\n",
       "      <td>20</td>\n",
       "      <td>[RBMY1F, RBMY1A1]</td>\n",
       "      <td>[RASD1, RBM3, HNRNPK, APOBEC3C, DAAM2, PCDHB14...</td>\n",
       "      <td>0.999949</td>\n",
       "    </tr>\n",
       "    <tr>\n",
       "      <th>14</th>\n",
       "      <td>Louvain</td>\n",
       "      <td>6</td>\n",
       "      <td>1</td>\n",
       "      <td>27</td>\n",
       "      <td>[TBL1Y]</td>\n",
       "      <td>[FOXK2, GPS2, TCP1, CAPN15, CCT6A, TBL1X, NCOR...</td>\n",
       "      <td>1</td>\n",
       "    </tr>\n",
       "  </tbody>\n",
       "</table>\n",
       "</div>"
      ],
      "text/plain": [
       "    cl_algo mod_id n_sg n_g                  sg_id  \\\n",
       "0       MCL      0    1   6               [TMSB4Y]   \n",
       "1       MCL      1    1   8                  [SRY]   \n",
       "2       MCL      2    1  16                [DDX3Y]   \n",
       "3       MCL      3    1  11                [USP9Y]   \n",
       "4       MCL      4    1   6                  [ZFY]   \n",
       "5       MCL      5    2  20      [RBMY1F, RBMY1A1]   \n",
       "6       MCL      6    2  10       [RPS4Y1, RPS4Y2]   \n",
       "7       MCL      7    1  27                [TBL1Y]   \n",
       "8   Louvain      0    1   6               [TMSB4Y]   \n",
       "9   Louvain      1    1   8                  [SRY]   \n",
       "10  Louvain      2    1  16                [DDX3Y]   \n",
       "11  Louvain      3    1  11                [USP9Y]   \n",
       "12  Louvain      4    3  16  [ZFY, RPS4Y1, RPS4Y2]   \n",
       "13  Louvain      5    2  20      [RBMY1F, RBMY1A1]   \n",
       "14  Louvain      6    1  27                [TBL1Y]   \n",
       "\n",
       "                                                 g_id   p_value  \n",
       "0        [TERF2IP, ACTA1, POT1, TERF1, EWSR1, TMSB4Y]  0.970306  \n",
       "1    [SMAD3, SP1, HDAC3, SRY, WDR5, EP300, AR, KPNB1]  0.991391  \n",
       "2   [SMAD2, POC1A, SHBG, SAP25, WWOX, CRY2, DDX3Y,...  0.999959  \n",
       "3   [CLK3, PMS1, USP9Y, HS2ST1, UBC, NCKIPSD, ZNF3...  0.998745  \n",
       "4               [CACNB3, ZFY, ZBTB9, RNF2, ZFX, NSD1]  0.970306  \n",
       "5   [RASD1, RBM3, HNRNPK, APOBEC3C, DAAM2, PCDHB14...  0.999949  \n",
       "6   [ZNF746, CD81, RPS4Y1, RPS4Y2, CLK1, CSNK1E, I...  0.975929  \n",
       "7   [FOXK2, GPS2, TCP1, CAPN15, CCT6A, TBL1X, NCOR...         1  \n",
       "8        [TERF2IP, ACTA1, POT1, TERF1, EWSR1, TMSB4Y]  0.970306  \n",
       "9    [SMAD3, SP1, HDAC3, SRY, WDR5, EP300, AR, KPNB1]  0.991391  \n",
       "10  [SMAD2, POC1A, SHBG, SAP25, WWOX, CRY2, DDX3Y,...  0.999959  \n",
       "11  [CLK3, PMS1, USP9Y, HS2ST1, UBC, NCKIPSD, ZNF3...  0.998745  \n",
       "12  [ZNF746, RPS4Y1, CD81, RPS4Y2, CLK1, CSNK1E, C...  0.994321  \n",
       "13  [RASD1, RBM3, HNRNPK, APOBEC3C, DAAM2, PCDHB14...  0.999949  \n",
       "14  [FOXK2, GPS2, TCP1, CAPN15, CCT6A, TBL1X, NCOR...         1  "
      ]
     },
     "execution_count": 5,
     "metadata": {},
     "output_type": "execute_result"
    }
   ],
   "source": [
    "df_ii"
   ]
  },
  {
   "cell_type": "code",
   "execution_count": null,
   "metadata": {},
   "outputs": [],
   "source": [
    "df_ii.shape[0]"
   ]
  },
  {
   "cell_type": "code",
   "execution_count": null,
   "metadata": {
    "collapsed": true
   },
   "outputs": [],
   "source": []
  },
  {
   "cell_type": "code",
   "execution_count": null,
   "metadata": {
    "collapsed": true
   },
   "outputs": [],
   "source": []
  },
  {
   "cell_type": "code",
   "execution_count": null,
   "metadata": {
    "collapsed": true
   },
   "outputs": [],
   "source": []
  },
  {
   "cell_type": "code",
   "execution_count": null,
   "metadata": {
    "collapsed": true
   },
   "outputs": [],
   "source": []
  },
  {
   "cell_type": "code",
   "execution_count": null,
   "metadata": {
    "collapsed": true
   },
   "outputs": [],
   "source": []
  },
  {
   "cell_type": "code",
   "execution_count": null,
   "metadata": {
    "scrolled": true
   },
   "outputs": [],
   "source": []
  },
  {
   "cell_type": "markdown",
   "metadata": {},
   "source": [
    "## LCC for ii - LOUVAIN"
   ]
  },
  {
   "cell_type": "code",
   "execution_count": null,
   "metadata": {},
   "outputs": [],
   "source": [
    "# read data and create graph\n",
    "ii = read_graph(\"ii\")\n",
    "\n",
    "# find LCC\n",
    "G_ii = max(nx.connected_component_subgraphs(ii), key=len)\n",
    "\n",
    "# community - LOUVAIN \n",
    "partition_ii = community.best_partition(G_ii)\n"
   ]
  },
  {
   "cell_type": "code",
   "execution_count": null,
   "metadata": {},
   "outputs": [],
   "source": [
    "nx.draw(G_ii, node_size=3)\n",
    "plt.show()"
   ]
  },
  {
   "cell_type": "code",
   "execution_count": null,
   "metadata": {
    "collapsed": true
   },
   "outputs": [],
   "source": []
  },
  {
   "cell_type": "code",
   "execution_count": null,
   "metadata": {
    "scrolled": true
   },
   "outputs": [],
   "source": [
    "#drawing\n",
    "size = float(len(set(partition_ii.values())))\n",
    "pos = nx.spring_layout(G_ii)\n",
    "count = 0.\n",
    "for com in set(partition_ii.values()) :\n",
    "    count = count + 1.\n",
    "    list_nodes = [nodes for nodes in partition_ii.keys()\n",
    "                                if partition_ii[nodes] == com]\n",
    "    nx.draw_networkx_nodes(G_ii, pos, list_nodes, node_size = 20,\n",
    "                                node_color = str(count / size))\n",
    "\n",
    "\n",
    "nx.draw_networkx_edges(G_ii, pos, alpha=0.5)\n",
    "plt.show()"
   ]
  },
  {
   "cell_type": "code",
   "execution_count": null,
   "metadata": {
    "collapsed": true
   },
   "outputs": [],
   "source": []
  },
  {
   "cell_type": "markdown",
   "metadata": {},
   "source": [
    "## LCC - ui - LOUVAIN"
   ]
  },
  {
   "cell_type": "code",
   "execution_count": null,
   "metadata": {
    "collapsed": true
   },
   "outputs": [],
   "source": [
    "# read data and create graph\n",
    "ui = read_graph(\"ui\")\n",
    "\n",
    "# find LCC\n",
    "G_ui = max(nx.connected_component_subgraphs(ui), key=len)\n",
    "\n",
    "# community - LOUVAIN \n",
    "partition_ui = community.best_partition(G_ui)"
   ]
  },
  {
   "cell_type": "code",
   "execution_count": null,
   "metadata": {},
   "outputs": [],
   "source": [
    "#drawing\n",
    "size = float(len(set(partition_ui.values())))\n",
    "pos = nx.spring_layout(G_ui)\n",
    "count = 0.\n",
    "for com in set(partition_ui.values()) :\n",
    "    count = count + 1.\n",
    "    list_nodes = [nodes for nodes in partition_ui.keys()\n",
    "                                if partition_ui[nodes] == com]\n",
    "    nx.draw_networkx_nodes(G_ui, pos, list_nodes, node_size = 20,\n",
    "                                node_color = str(count / size))\n",
    "\n",
    "\n",
    "nx.draw_networkx_edges(G_ui, pos, alpha=0.5)\n",
    "plt.show()"
   ]
  },
  {
   "cell_type": "code",
   "execution_count": null,
   "metadata": {
    "collapsed": true
   },
   "outputs": [],
   "source": []
  },
  {
   "cell_type": "code",
   "execution_count": null,
   "metadata": {
    "collapsed": true
   },
   "outputs": [],
   "source": []
  },
  {
   "cell_type": "code",
   "execution_count": null,
   "metadata": {
    "collapsed": true
   },
   "outputs": [],
   "source": []
  },
  {
   "cell_type": "markdown",
   "metadata": {},
   "source": [
    "## LCC - ii - MCL"
   ]
  },
  {
   "cell_type": "code",
   "execution_count": null,
   "metadata": {
    "collapsed": true
   },
   "outputs": [],
   "source": [
    "ii_mat = nx.to_numpy_matrix(G_ii)"
   ]
  },
  {
   "cell_type": "code",
   "execution_count": null,
   "metadata": {},
   "outputs": [],
   "source": [
    "#### hyperparameters\n",
    "\n",
    "# perform clustering using different inflation values from 1.5 and 2.5\n",
    "# for each clustering run, calculate the modularity\n",
    "infl_lst = []\n",
    "for inflation in [i/10 for i in range(15, 26)]:\n",
    "    result = mc.run_mcl(ii_mat, inflation=inflation)\n",
    "    clusters = mc.get_clusters(result)\n",
    "    Q = mc.modularity(matrix=np.asmatrix(result), clusters=clusters)\n",
    "    infl_lst.append((Q, inflation))\n",
    "\n",
    "max_infl_ii = max(infl_lst)[1]"
   ]
  },
  {
   "cell_type": "code",
   "execution_count": null,
   "metadata": {
    "collapsed": true
   },
   "outputs": [],
   "source": [
    "result_ii = mc.run_mcl(ii_mat, inflation = max_infl_ii)\n",
    "clusters_ii = mc.get_clusters(result)"
   ]
  },
  {
   "cell_type": "code",
   "execution_count": null,
   "metadata": {},
   "outputs": [],
   "source": [
    "mc.draw_graph(ii_mat, clusters, node_size=50, with_labels=False, edge_color=\"silver\")"
   ]
  },
  {
   "cell_type": "code",
   "execution_count": null,
   "metadata": {
    "collapsed": true
   },
   "outputs": [],
   "source": []
  },
  {
   "cell_type": "code",
   "execution_count": null,
   "metadata": {},
   "outputs": [],
   "source": [
    "list(G_ui.nodes())[0]"
   ]
  },
  {
   "cell_type": "markdown",
   "metadata": {},
   "source": [
    "## LCC - ui - MCL"
   ]
  },
  {
   "cell_type": "code",
   "execution_count": null,
   "metadata": {
    "collapsed": true
   },
   "outputs": [],
   "source": []
  },
  {
   "cell_type": "code",
   "execution_count": null,
   "metadata": {
    "collapsed": true
   },
   "outputs": [],
   "source": [
    "ui_mat = nx.to_numpy_matrix(G_ui)\n",
    "\n",
    "# map node name to numbers\n",
    "lbls = {}\n",
    "for k in range(len(G_ui)):\n",
    "    lbls[k] = list(G_ui.nodes())[k]"
   ]
  },
  {
   "cell_type": "code",
   "execution_count": null,
   "metadata": {
    "collapsed": true
   },
   "outputs": [],
   "source": [
    "#### hyperparameters\n",
    "\n",
    "# perform clustering using different inflation values from 1.5 and 2.5\n",
    "# for each clustering run, calculate the modularity\n",
    "infl_lst = []\n",
    "for inflation in [i/10 for i in range(15, 26)]:\n",
    "    result = mc.run_mcl(ui_mat, inflation=inflation)\n",
    "    clusters = mc.get_clusters(result)\n",
    "    Q = mc.modularity(matrix=np.asmatrix(result), clusters=clusters)\n",
    "    infl_lst.append((Q, inflation))\n",
    "\n",
    "max_infl_ui = max(infl_lst)[1]"
   ]
  },
  {
   "cell_type": "code",
   "execution_count": null,
   "metadata": {},
   "outputs": [],
   "source": [
    "result_ui = mc.run_mcl(ui_mat, inflation = max_infl_ui)\n",
    "clusters_ui = mc.get_clusters(result)\n",
    "\n",
    "# use labels\n",
    "for i in range(len(clusters_ui)):\n",
    "    clusters_ui[i] = [lbls.get(item, item) for item in clusters_ui[i]]"
   ]
  },
  {
   "cell_type": "code",
   "execution_count": null,
   "metadata": {},
   "outputs": [],
   "source": [
    "mc.draw_graph(ui_mat, clusters, node_size=50, with_labels=False, edge_color=\"silver\")"
   ]
  },
  {
   "cell_type": "code",
   "execution_count": null,
   "metadata": {
    "scrolled": true
   },
   "outputs": [],
   "source": []
  },
  {
   "cell_type": "markdown",
   "metadata": {},
   "source": [
    "## MCL - ui - test ipergeometrico"
   ]
  },
  {
   "cell_type": "code",
   "execution_count": null,
   "metadata": {
    "collapsed": true
   },
   "outputs": [],
   "source": [
    "def hypergeom_test(mod, genes, G_lcc):\n",
    "    \n",
    "    M = len(G_lcc.nodes())\n",
    "    n = len(genes)\n",
    "    N = len(mod)\n",
    "    x = len(set(genes).intersection(set(prova)))\n",
    "    \n",
    "    pval = hypergeom.cdf(x, M, n, N)\n",
    "    \n",
    "    return(pval)\n"
   ]
  },
  {
   "cell_type": "code",
   "execution_count": null,
   "metadata": {},
   "outputs": [],
   "source": [
    "# find modules with more than 10 nodes \n",
    "#mod_10_ii = [i for i in clusters_ii if len(i) >=10]\n",
    "mod_10_ui = [i for i in clusters_ui if len(i) >=10]"
   ]
  },
  {
   "cell_type": "code",
   "execution_count": null,
   "metadata": {
    "scrolled": true
   },
   "outputs": [],
   "source": [
    "prova = mod_10_ui[2]\n",
    "prova"
   ]
  },
  {
   "cell_type": "code",
   "execution_count": null,
   "metadata": {},
   "outputs": [],
   "source": [
    "####### test ipergeometrico sui seed genes!!!!\n",
    "\n",
    "# x-1\n",
    "# M -> population size\n",
    "# n -> number of successes in the population\n",
    "# N -> is the sample size \n",
    "# x -> numero seed genes nel cluster "
   ]
  },
  {
   "cell_type": "code",
   "execution_count": null,
   "metadata": {
    "collapsed": true
   },
   "outputs": [],
   "source": [
    "with open(\"seed_genes.txt\",\"r\") as f:\n",
    "    genes = [gene.rstrip() for gene in f.readlines()]"
   ]
  },
  {
   "cell_type": "code",
   "execution_count": null,
   "metadata": {},
   "outputs": [],
   "source": []
  },
  {
   "cell_type": "code",
   "execution_count": null,
   "metadata": {},
   "outputs": [],
   "source": [
    "M = len(G_ui.nodes())\n",
    "n = len(genes)\n",
    "N = len(prova)\n",
    "x = len(set(genes).intersection(set(prova)))"
   ]
  },
  {
   "cell_type": "code",
   "execution_count": null,
   "metadata": {},
   "outputs": [],
   "source": [
    "from scipy.stats import hypergeom\n",
    "pval = hypergeom.cdf(x, M, n, N)\n",
    "pval"
   ]
  },
  {
   "cell_type": "code",
   "execution_count": null,
   "metadata": {},
   "outputs": [],
   "source": []
  },
  {
   "cell_type": "code",
   "execution_count": null,
   "metadata": {
    "collapsed": true
   },
   "outputs": [],
   "source": []
  },
  {
   "cell_type": "code",
   "execution_count": null,
   "metadata": {
    "collapsed": true
   },
   "outputs": [],
   "source": [
    "# https://github.com/GuyAllard/markov_clustering\n",
    "\n",
    "# https://blog.alexlenail.me/understanding-and-implementing-the-hypergeometric-test-in-python-a7db688a7458\n",
    "\n",
    "# https://www.biostars.org/p/66729/\n",
    "\n",
    "# "
   ]
  }
 ],
 "metadata": {
  "kernelspec": {
   "display_name": "Python 3",
   "language": "python",
   "name": "python3"
  },
  "language_info": {
   "codemirror_mode": {
    "name": "ipython",
    "version": 3
   },
   "file_extension": ".py",
   "mimetype": "text/x-python",
   "name": "python",
   "nbconvert_exporter": "python",
   "pygments_lexer": "ipython3",
   "version": "3.6.2"
  }
 },
 "nbformat": 4,
 "nbformat_minor": 2
}
