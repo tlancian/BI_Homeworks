{
 "cells": [
  {
   "cell_type": "code",
   "execution_count": 46,
   "metadata": {},
   "outputs": [
    {
     "data": {
      "text/html": [
       "<style>.container { width:80% !important; }</style>"
      ],
      "text/plain": [
       "<IPython.core.display.HTML object>"
      ]
     },
     "metadata": {},
     "output_type": "display_data"
    }
   ],
   "source": [
    "from IPython.core.display import display, HTML\n",
    "display(HTML(\"<style>.container { width:80% !important; }</style>\"))"
   ]
  },
  {
   "cell_type": "code",
   "execution_count": 47,
   "metadata": {
    "collapsed": true
   },
   "outputs": [],
   "source": [
    "import networkx as nx\n",
    "import pandas as pd\n",
    "import markov_clustering as mc\n",
    "import community\n",
    "import matplotlib.pyplot as plt\n",
    "import numpy as np"
   ]
  },
  {
   "cell_type": "code",
   "execution_count": null,
   "metadata": {
    "collapsed": true
   },
   "outputs": [],
   "source": [
    "def read_graph(file):\n",
    "    \n",
    "    G = nx.Graph()\n",
    "    \n",
    "    with open(\"../interactomes/\"+file+\".tsv\", \"r\") as f:\n",
    "        for row in f.readlines()[1:]:\n",
    "            edge = row[:-1].split(\"\\t\")\n",
    "            G.add_edge(edge[0],edge[1])\n",
    "    \n",
    "    return G\n",
    "\n",
    "\n",
    "def find_best_inflation(mat):\n",
    "    \n",
    "    infl_lst = []\n",
    "    for inflation in [i/10 for i in range(15, 26)]:\n",
    "        \n",
    "        result = mc.run_mcl(mat, inflation=inflation)\n",
    "        clusters = mc.get_clusters(result)\n",
    "        Q = mc.modularity(matrix=np.asmatrix(result), clusters=clusters)\n",
    "        infl_lst.append((Q, inflation))\n",
    "    \n",
    "    return(max(infl_lst)[1])\n",
    "\n",
    "def get_labels(G_lcc, clusters):\n",
    "    \n",
    "    # map node name to numbers\n",
    "    lbls = {}\n",
    "    for k in range(len(G_lcc)):\n",
    "        lbls[k] = list(G_lcc.nodes())[k]\n",
    "\n",
    "    # use labels\n",
    "    for i in range(len(clusters)):\n",
    "        clusters[i] = [lbls.get(item, item) for item in clusters[i]]\n",
    "    \n",
    "    return(clusters)\n",
    "\n",
    "\n",
    "def MCL(G_lcc):\n",
    "    \n",
    "    mat = nx.to_numpy_matrix(G_lcc)\n",
    "    \n",
    "    # find best inflation\n",
    "    max_infl = find_best_inflation(mat)\n",
    "    \n",
    "    result = mc.run_mcl(mat, inflation = max_infl)\n",
    "    clusters = mc.get_clusters(result)\n",
    "    \n",
    "    # return name of genes\n",
    "    return(get_labels(G_lcc, clusters))\n",
    "\n",
    "\n",
    "def louvain(G_lcc):\n",
    "    \n",
    "    partition = community.best_partition(G_lcc)\n",
    "    clusters = [] \n",
    "    for com in set(partition.values()) :\n",
    "        list_nodes = [nodes for nodes in partition.keys() if partition[nodes] == com]\n",
    "        clusters.append(list_nodes)\n",
    "\n",
    "    return(clusters)\n",
    "\n",
    "\n",
    "def hypergeom_test(mod, genes, G_lcc):\n",
    "    \n",
    "    M = len(G_lcc.nodes())\n",
    "    n = len(genes)\n",
    "    N = len(mod)\n",
    "    x = len(set(genes).intersection(set(mod)))\n",
    "    \n",
    "    pval = hypergeom.cdf(x, M, n, N)\n",
    "    \n",
    "    return(pval, x, M, n, N)\n",
    "\n",
    "\n",
    "def fill_df(df, clusters, G_lcc, genes, algo):\n",
    "    r = df.shape[0]\n",
    "    for idx, c in enumerate(clusters):\n",
    "        df.loc[r+idx, 'cl_algo'] = algo\n",
    "        df.loc[r+idx, 'mod_id'] = r + idx\n",
    "        df.loc[r+idx, 'n_sg'] = ut.hypergeom_test(c, genes, G_lcc)[1]\n",
    "        df.loc[r+idx, 'n_g'] = ut.hypergeom_test(c, genes, G_lcc)[4]\n",
    "        df.loc[r+idx, 'sg_id'] = list(set(genes).intersection(set(c)))\n",
    "        df.loc[r+idx, 'g_id'] = list(set(c))\n",
    "        df.loc[r+idx, 'p_value'] = ut.hypergeom_test(c, genes, G_lcc)[0]\n",
    "    \n",
    "    return(df)"
   ]
  },
  {
   "cell_type": "code",
   "execution_count": null,
   "metadata": {
    "collapsed": true
   },
   "outputs": [],
   "source": [
    "# Initialize the gene list\n",
    "with open(\"seed_genes.txt\",\"r\") as f:\n",
    "    genes = [gene.rstrip() for gene in f.readlines()]\n",
    "\n",
    "\n",
    "### read data\n",
    "\n",
    "ii = ut.read_graph(\"ii\")\n",
    "ui = ut.read_graph(\"ui\")\n",
    "\n",
    "# get LCC\n",
    "G_ii = max(nx.connected_component_subgraphs(ii), key=len)\n",
    "G_ui = max(nx.connected_component_subgraphs(ui), key=len)\n",
    "\n",
    "\n",
    "### LOUVAIN \n",
    "\n",
    "cl_ii_lou = ut.louvain(G_ii)\n",
    "cl_ui_lou = ut.louvain(G_ui)\n",
    "\n",
    "\n",
    "### MCL\n",
    "\n",
    "cl_ii_mcl = ut.MCL(G_ii)\n",
    "cl_ui_mcl = ut.MCL(G_ui)\n",
    "\n",
    "\n",
    "# create table\n",
    "col_lst = ['cl_algo', 'mod_id', 'n_sg', 'n_g', 'sg_id', 'g_id', 'p_value']\n",
    "df_ui = pd.DataFrame(data=None, columns = col_lst)\n",
    "df_ii = pd.DataFrame(data=None, columns = col_lst)\n",
    "\n",
    "\n",
    "### hypergeometric test - ui, MCL\n",
    "df_ui = pd.DataFrame(data=None, columns = col_lst)\n",
    "df_ui = ut.fill_df(df_ui, cl_ui_mcl, G_ui, genes, 'MCL')\n",
    "       \n",
    "        \n",
    "\n",
    "### hypergeometric test - ii, MCL\n",
    "\n",
    "df_ii = pd.DataFrame(data=None, columns = col_lst)\n",
    "df_ii = ut.fill_df(df_ii, cl_ii_mcl, G_ii, genes, 'MCL')\n",
    "\n",
    "\n",
    "### hypergeometric test - ui, Louvain\n",
    "\n",
    "df_ui = ut.fill_df(df_ui, cl_ui_lou, G_ui, genes, 'Louvain')\n",
    "\n",
    "### hypergeometric test - ii, Louvain\n",
    "\n",
    "df_ii = ut.fill_df(df_ii, cl_ii_lou, G_ii, genes, 'Louvain')\n",
    "\n",
    "\n",
    "#save\n",
    "\n",
    "df_ui.to_csv('results/df_ui.csv')\n",
    "df_ii.to_csv('results/df_ii.csv')\n",
    "\n",
    "\n",
    "# get putative disease modules\n",
    "#df_ui[(df_ui.n_g >= 10) & (df_ui.p_value < 0.05)]"
   ]
  },
  {
   "cell_type": "code",
   "execution_count": null,
   "metadata": {
    "collapsed": true
   },
   "outputs": [],
   "source": []
  },
  {
   "cell_type": "code",
   "execution_count": null,
   "metadata": {
    "collapsed": true
   },
   "outputs": [],
   "source": []
  },
  {
   "cell_type": "code",
   "execution_count": null,
   "metadata": {
    "collapsed": true
   },
   "outputs": [],
   "source": []
  },
  {
   "cell_type": "code",
   "execution_count": null,
   "metadata": {
    "collapsed": true
   },
   "outputs": [],
   "source": [
    "size = float(len(set(partition_ii.values())))\n",
    "pos = nx.spring_layout(G_ii)\n",
    "count = 0.\n",
    "for com in set(partition_ii.values()) :\n",
    "    count = count + 1.\n",
    "    list_nodes = [nodes for nodes in partition_ii.keys()\n",
    "                                if partition_ii[nodes] == com]\n",
    "    nx.draw_networkx_nodes(G_ii, pos, list_nodes, node_size = 20,\n",
    "                                node_color = str(count / size))\n",
    "\n",
    "\n",
    "nx.draw_networkx_edges(G_ii, pos, alpha=0.5)\n",
    "plt.show()\n",
    "\n",
    "    plt.figure(num=None, figsize=(15,15), dpi=50)\n",
    "    nx.draw(G, nodelist= list(d.keys()), node_size=[v*100  for v in d.values()], with_labels = True, \n",
    "            pos = get_coordinates(),  font_size=18, node_color=list(nx.get_node_attributes(G,'color').values()))\n",
    "    plt.savefig('results/' + filename + '_degree' + '.png')"
   ]
  },
  {
   "cell_type": "code",
   "execution_count": null,
   "metadata": {
    "collapsed": true
   },
   "outputs": [],
   "source": [
    "size = float(len(set(partition_ii.values())))\n",
    "pos = nx.spring_layout(G_ii)\n",
    "count = 0.\n",
    "for com in set(partition_ii.values()) :\n",
    "    count = count + 1.\n",
    "    list_nodes = [nodes for nodes in partition_ii.keys()\n",
    "                                if partition_ii[nodes] == com]\n",
    "    nx.draw_networkx_nodes(G_ii, pos, list_nodes, node_size = 20,\n",
    "                                node_color = str(count / size))\n",
    "\n",
    "\n",
    "nx.draw_networkx_edges(G_ii, pos, alpha=0.5)\n",
    "plt.show()\n",
    "\n",
    "    plt.figure(num=None, figsize=(15,15), dpi=50)\n",
    "    nx.draw(G, nodelist= list(d.keys()), node_size=[v*100  for v in d.values()], with_labels = True, \n",
    "            pos = get_coordinates(),  font_size=18, node_color=list(nx.get_node_attributes(G,'color').values()))\n",
    "    plt.savefig('results/' + filename + '_degree' + '.png')"
   ]
  },
  {
   "cell_type": "code",
   "execution_count": null,
   "metadata": {
    "collapsed": true
   },
   "outputs": [],
   "source": [
    "mc.draw_graph(ui_mat, clusters, node_size=50, with_labels=False, edge_color=\"silver\")"
   ]
  },
  {
   "cell_type": "code",
   "execution_count": null,
   "metadata": {
    "collapsed": true
   },
   "outputs": [],
   "source": [
    "# https://github.com/GuyAllard/markov_clustering\n",
    "\n",
    "# https://blog.alexlenail.me/understanding-and-implementing-the-hypergeometric-test-in-python-a7db688a7458\n",
    "\n",
    "# https://www.biostars.org/p/66729/\n",
    "\n",
    "# "
   ]
  }
 ],
 "metadata": {
  "kernelspec": {
   "display_name": "Python 3",
   "language": "python",
   "name": "python3"
  },
  "language_info": {
   "codemirror_mode": {
    "name": "ipython",
    "version": 3
   },
   "file_extension": ".py",
   "mimetype": "text/x-python",
   "name": "python",
   "nbconvert_exporter": "python",
   "pygments_lexer": "ipython3",
   "version": "3.6.2"
  }
 },
 "nbformat": 4,
 "nbformat_minor": 2
}
