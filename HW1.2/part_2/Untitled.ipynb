{
 "cells": [
  {
   "cell_type": "code",
   "execution_count": null,
   "metadata": {},
   "outputs": [],
   "source": [
    "from IPython.core.display import display, HTML\n",
    "display(HTML(\"<style>.container { width:80% !important; }</style>\"))"
   ]
  },
  {
   "cell_type": "code",
   "execution_count": 1,
   "metadata": {
    "collapsed": true
   },
   "outputs": [],
   "source": [
    "import networkx as nx\n",
    "import pandas as pd\n",
    "import markov_clustering as mc\n",
    "import community\n",
    "import matplotlib.pyplot as plt\n",
    "import numpy as np\n",
    "\n",
    "import utils as ut"
   ]
  },
  {
   "cell_type": "code",
   "execution_count": null,
   "metadata": {},
   "outputs": [],
   "source": [
    "### TODO: nella funzione louvain, return i cluster e non la partizione\n",
    "\n",
    "def read_graph(file):\n",
    "    \n",
    "    G = nx.Graph()\n",
    "    \n",
    "    with open(\"../interactomes/\"+file+\".tsv\", \"r\") as f:\n",
    "        for row in f.readlines()[1:]:\n",
    "            edge = row[:-1].split(\"\\t\")\n",
    "            G.add_edge(edge[0],edge[1])\n",
    "    \n",
    "    return G\n",
    "\n",
    "\n",
    "def find_best_inflation(mat):\n",
    "    \n",
    "    infl_lst = []\n",
    "    for inflation in [i/10 for i in range(15, 26)]:\n",
    "        \n",
    "        result = mc.run_mcl(mat, inflation=inflation)\n",
    "        clusters = mc.get_clusters(result)\n",
    "        Q = mc.modularity(matrix=np.asmatrix(result), clusters=clusters)\n",
    "        infl_lst.append((Q, inflation))\n",
    "    \n",
    "    return(max(infl_lst)[1])\n",
    "\n",
    "def get_labels(G_lcc, clusters):\n",
    "    \n",
    "    # map node name to numbers\n",
    "    lbls = {}\n",
    "    for k in range(len(G_lcc)):\n",
    "        lbls[k] = list(G_lcc.nodes())[k]\n",
    "\n",
    "    # use labels\n",
    "    for i in range(len(clusters)):\n",
    "        clusters[i] = [lbls.get(item, item) for item in clusters[i]]\n",
    "    \n",
    "    return(clusters)\n",
    "\n",
    "\n",
    "def MCL(G_lcc):\n",
    "    \n",
    "    mat = nx.to_numpy_matrix(G_lcc)\n",
    "    \n",
    "    # find best inflation\n",
    "    max_infl = find_best_inflation(mat)\n",
    "    \n",
    "    result = mc.run_mcl(mat, inflation = max_infl)\n",
    "    clusters = mc.get_clusters(result)\n",
    "    \n",
    "    # return name of genes\n",
    "    return(get_labels(G_lcc, clusters))\n",
    "\n",
    "\n",
    "def louvain(G_lcc):\n",
    "    \n",
    "    partition = community.best_partition(G_lcc)\n",
    "\n",
    "    return(partition)\n",
    "\n",
    "\n",
    "def hypergeom_test(mod, genes, G_lcc):\n",
    "    \n",
    "    M = len(G_lcc.nodes())\n",
    "    n = len(genes)\n",
    "    N = len(mod)\n",
    "    x = len(set(genes).intersection(set(mod)))\n",
    "    \n",
    "    pval = hypergeom.cdf(x, M, n, N)\n",
    "    \n",
    "    return(pval, x, M, n, N)\n",
    "\n",
    "\n",
    "\n",
    "def find_modules(clusters):\n",
    "    modules = [i for i in clusters if len(i) >=10]\n",
    "    \n",
    "    return(modules)\n"
   ]
  },
  {
   "cell_type": "code",
   "execution_count": null,
   "metadata": {
    "collapsed": true
   },
   "outputs": [],
   "source": [
    "        "
   ]
  },
  {
   "cell_type": "code",
   "execution_count": 2,
   "metadata": {},
   "outputs": [],
   "source": [
    "# Initialize the gene list\n",
    "with open(\"seed_genes.txt\",\"r\") as f:\n",
    "    genes = [gene.rstrip() for gene in f.readlines()]\n",
    "\n",
    "\n",
    "### read data\n",
    "\n",
    "ii = ut.read_graph(\"ii\")\n",
    "ui = ut.read_graph(\"ui\")\n",
    "\n",
    "# get LCC\n",
    "G_ii = max(nx.connected_component_subgraphs(ii), key=len)\n",
    "G_ui = max(nx.connected_component_subgraphs(ui), key=len)\n",
    "\n",
    "\n",
    "### LOUVAIN \n",
    "\n",
    "partition_ii = ut.louvain(G_ii)\n",
    "partition_ui = ut.louvain(G_ui)\n",
    "\n",
    "\n",
    "### MCL\n",
    "\n",
    "cl_ii_mcl = ut.MCL(G_ii)\n",
    "cl_ui_mcl = ut.MCL(G_ui)\n",
    "\n",
    "\n",
    "# create table\n",
    "col_lst = ['cl_algo', 'mod_id', 'n_sg', 'n_g', 'sg_id', 'g_id', 'p_value']\n",
    "df_ui = pd.DataFrame(data=None, columns = col_lst)\n",
    "df_ii = pd.DataFrame(data=None, columns = col_lst)\n",
    "\n",
    "\n",
    "### hypergeometric test - ui, MCL\n",
    "df_ui = pd.DataFrame(data=None, columns = col_lst)\n",
    "r = df_ui.shape[0]\n",
    "for idx, c in enumerate(cl_ui_mcl):\n",
    "    df_ui.loc[r+idx, 'cl_algo'] = 'MCL'\n",
    "    df_ui.loc[r+idx, 'mod_id'] = idx\n",
    "    df_ui.loc[r+idx, 'n_sg'] = ut.hypergeom_test(c, genes, G_ui)[1]\n",
    "    df_ui.loc[r+idx, 'n_g'] = ut.hypergeom_test(c, genes, G_ui)[4]\n",
    "    df_ui.loc[r+idx, 'sg_id'] = list(set(genes).intersection(set(c)))\n",
    "    df_ui.loc[r+idx, 'g_id'] = list(set(c))\n",
    "    df_ui.loc[r+idx, 'p_value'] = ut.hypergeom_test(c, genes, G_ui)[0]\n",
    "\n",
    "       \n",
    "        \n",
    "\n",
    "### hypergeometric test - ii, MCL\n",
    "\n",
    "df_ii = pd.DataFrame(data=None, columns = col_lst)\n",
    "r = df_ii.shape[0]\n",
    "for idx, c in enumerate(cl_ii_mcl):\n",
    "    df_ii.loc[r+idx, 'cl_algo'] = 'MCL'\n",
    "    df_ii.loc[r+idx, 'mod_id'] = idx\n",
    "    df_ii.loc[r+idx, 'n_sg'] = ut.hypergeom_test(c, genes, G_ii)[1]\n",
    "    df_ii.loc[r+idx, 'n_g'] = ut.hypergeom_test(c, genes, G_ii)[4]\n",
    "    df_ii.loc[r+idx, 'sg_id'] = list(set(genes).intersection(set(c)))\n",
    "    df_ii.loc[r+idx, 'g_id'] = list(set(c))\n",
    "    df_ii.loc[r+idx, 'p_value'] = ut.hypergeom_test(c, genes, G_ii)[0]\n",
    "\n",
    "\n",
    "### hypergeometric test - ui, Louvain\n",
    "\n",
    "\n",
    "### hypergeometric test - ii, Louvain\n",
    "\n",
    "\n",
    "#save\n",
    "\n",
    "df_ui.to_csv('df_ui.csv')\n",
    "df_ii.to_csv('df_ii.csv')"
   ]
  },
  {
   "cell_type": "code",
   "execution_count": null,
   "metadata": {},
   "outputs": [],
   "source": []
  },
  {
   "cell_type": "code",
   "execution_count": null,
   "metadata": {},
   "outputs": [],
   "source": [
    "df_ui"
   ]
  },
  {
   "cell_type": "code",
   "execution_count": null,
   "metadata": {},
   "outputs": [],
   "source": [
    "df_ii"
   ]
  },
  {
   "cell_type": "code",
   "execution_count": null,
   "metadata": {},
   "outputs": [],
   "source": [
    "df_ui.shape[0]"
   ]
  },
  {
   "cell_type": "code",
   "execution_count": null,
   "metadata": {
    "collapsed": true
   },
   "outputs": [],
   "source": []
  },
  {
   "cell_type": "code",
   "execution_count": null,
   "metadata": {
    "collapsed": true
   },
   "outputs": [],
   "source": []
  },
  {
   "cell_type": "code",
   "execution_count": null,
   "metadata": {
    "collapsed": true
   },
   "outputs": [],
   "source": []
  },
  {
   "cell_type": "code",
   "execution_count": null,
   "metadata": {
    "collapsed": true
   },
   "outputs": [],
   "source": []
  },
  {
   "cell_type": "code",
   "execution_count": null,
   "metadata": {
    "collapsed": true
   },
   "outputs": [],
   "source": []
  },
  {
   "cell_type": "code",
   "execution_count": null,
   "metadata": {
    "collapsed": true
   },
   "outputs": [],
   "source": []
  },
  {
   "cell_type": "code",
   "execution_count": null,
   "metadata": {
    "collapsed": true
   },
   "outputs": [],
   "source": []
  },
  {
   "cell_type": "code",
   "execution_count": null,
   "metadata": {
    "collapsed": true
   },
   "outputs": [],
   "source": []
  },
  {
   "cell_type": "code",
   "execution_count": null,
   "metadata": {
    "collapsed": true
   },
   "outputs": [],
   "source": []
  },
  {
   "cell_type": "code",
   "execution_count": null,
   "metadata": {
    "collapsed": true
   },
   "outputs": [],
   "source": []
  },
  {
   "cell_type": "code",
   "execution_count": null,
   "metadata": {
    "collapsed": true
   },
   "outputs": [],
   "source": []
  },
  {
   "cell_type": "code",
   "execution_count": null,
   "metadata": {
    "collapsed": true
   },
   "outputs": [],
   "source": []
  },
  {
   "cell_type": "code",
   "execution_count": null,
   "metadata": {
    "scrolled": true
   },
   "outputs": [],
   "source": []
  },
  {
   "cell_type": "markdown",
   "metadata": {},
   "source": [
    "## LCC for ii - LOUVAIN"
   ]
  },
  {
   "cell_type": "code",
   "execution_count": null,
   "metadata": {},
   "outputs": [],
   "source": [
    "# read data and create graph\n",
    "ii = read_graph(\"ii\")\n",
    "\n",
    "# find LCC\n",
    "G_ii = max(nx.connected_component_subgraphs(ii), key=len)\n",
    "\n",
    "# community - LOUVAIN \n",
    "partition_ii = community.best_partition(G_ii)\n"
   ]
  },
  {
   "cell_type": "code",
   "execution_count": null,
   "metadata": {},
   "outputs": [],
   "source": [
    "nx.draw(G_ii, node_size=3)\n",
    "plt.show()"
   ]
  },
  {
   "cell_type": "code",
   "execution_count": null,
   "metadata": {
    "collapsed": true
   },
   "outputs": [],
   "source": []
  },
  {
   "cell_type": "code",
   "execution_count": null,
   "metadata": {
    "scrolled": true
   },
   "outputs": [],
   "source": [
    "#drawing\n",
    "size = float(len(set(partition_ii.values())))\n",
    "pos = nx.spring_layout(G_ii)\n",
    "count = 0.\n",
    "for com in set(partition_ii.values()) :\n",
    "    count = count + 1.\n",
    "    list_nodes = [nodes for nodes in partition_ii.keys()\n",
    "                                if partition_ii[nodes] == com]\n",
    "    nx.draw_networkx_nodes(G_ii, pos, list_nodes, node_size = 20,\n",
    "                                node_color = str(count / size))\n",
    "\n",
    "\n",
    "nx.draw_networkx_edges(G_ii, pos, alpha=0.5)\n",
    "plt.show()"
   ]
  },
  {
   "cell_type": "code",
   "execution_count": null,
   "metadata": {
    "collapsed": true
   },
   "outputs": [],
   "source": []
  },
  {
   "cell_type": "markdown",
   "metadata": {},
   "source": [
    "## LCC - ui - LOUVAIN"
   ]
  },
  {
   "cell_type": "code",
   "execution_count": null,
   "metadata": {
    "collapsed": true
   },
   "outputs": [],
   "source": [
    "# read data and create graph\n",
    "ui = read_graph(\"ui\")\n",
    "\n",
    "# find LCC\n",
    "G_ui = max(nx.connected_component_subgraphs(ui), key=len)\n",
    "\n",
    "# community - LOUVAIN \n",
    "partition_ui = community.best_partition(G_ui)"
   ]
  },
  {
   "cell_type": "code",
   "execution_count": null,
   "metadata": {},
   "outputs": [],
   "source": [
    "#drawing\n",
    "size = float(len(set(partition_ui.values())))\n",
    "pos = nx.spring_layout(G_ui)\n",
    "count = 0.\n",
    "for com in set(partition_ui.values()) :\n",
    "    count = count + 1.\n",
    "    list_nodes = [nodes for nodes in partition_ui.keys()\n",
    "                                if partition_ui[nodes] == com]\n",
    "    nx.draw_networkx_nodes(G_ui, pos, list_nodes, node_size = 20,\n",
    "                                node_color = str(count / size))\n",
    "\n",
    "\n",
    "nx.draw_networkx_edges(G_ui, pos, alpha=0.5)\n",
    "plt.show()"
   ]
  },
  {
   "cell_type": "code",
   "execution_count": null,
   "metadata": {
    "collapsed": true
   },
   "outputs": [],
   "source": []
  },
  {
   "cell_type": "code",
   "execution_count": null,
   "metadata": {
    "collapsed": true
   },
   "outputs": [],
   "source": []
  },
  {
   "cell_type": "code",
   "execution_count": null,
   "metadata": {
    "collapsed": true
   },
   "outputs": [],
   "source": []
  },
  {
   "cell_type": "markdown",
   "metadata": {},
   "source": [
    "## LCC - ii - MCL"
   ]
  },
  {
   "cell_type": "code",
   "execution_count": null,
   "metadata": {
    "collapsed": true
   },
   "outputs": [],
   "source": [
    "ii_mat = nx.to_numpy_matrix(G_ii)"
   ]
  },
  {
   "cell_type": "code",
   "execution_count": null,
   "metadata": {},
   "outputs": [],
   "source": [
    "#### hyperparameters\n",
    "\n",
    "# perform clustering using different inflation values from 1.5 and 2.5\n",
    "# for each clustering run, calculate the modularity\n",
    "infl_lst = []\n",
    "for inflation in [i/10 for i in range(15, 26)]:\n",
    "    result = mc.run_mcl(ii_mat, inflation=inflation)\n",
    "    clusters = mc.get_clusters(result)\n",
    "    Q = mc.modularity(matrix=np.asmatrix(result), clusters=clusters)\n",
    "    infl_lst.append((Q, inflation))\n",
    "\n",
    "max_infl_ii = max(infl_lst)[1]"
   ]
  },
  {
   "cell_type": "code",
   "execution_count": null,
   "metadata": {
    "collapsed": true
   },
   "outputs": [],
   "source": [
    "result_ii = mc.run_mcl(ii_mat, inflation = max_infl_ii)\n",
    "clusters_ii = mc.get_clusters(result)"
   ]
  },
  {
   "cell_type": "code",
   "execution_count": null,
   "metadata": {},
   "outputs": [],
   "source": [
    "mc.draw_graph(ii_mat, clusters, node_size=50, with_labels=False, edge_color=\"silver\")"
   ]
  },
  {
   "cell_type": "code",
   "execution_count": null,
   "metadata": {
    "collapsed": true
   },
   "outputs": [],
   "source": []
  },
  {
   "cell_type": "code",
   "execution_count": null,
   "metadata": {},
   "outputs": [],
   "source": [
    "list(G_ui.nodes())[0]"
   ]
  },
  {
   "cell_type": "markdown",
   "metadata": {},
   "source": [
    "## LCC - ui - MCL"
   ]
  },
  {
   "cell_type": "code",
   "execution_count": null,
   "metadata": {
    "collapsed": true
   },
   "outputs": [],
   "source": []
  },
  {
   "cell_type": "code",
   "execution_count": null,
   "metadata": {
    "collapsed": true
   },
   "outputs": [],
   "source": [
    "ui_mat = nx.to_numpy_matrix(G_ui)\n",
    "\n",
    "# map node name to numbers\n",
    "lbls = {}\n",
    "for k in range(len(G_ui)):\n",
    "    lbls[k] = list(G_ui.nodes())[k]"
   ]
  },
  {
   "cell_type": "code",
   "execution_count": null,
   "metadata": {
    "collapsed": true
   },
   "outputs": [],
   "source": [
    "#### hyperparameters\n",
    "\n",
    "# perform clustering using different inflation values from 1.5 and 2.5\n",
    "# for each clustering run, calculate the modularity\n",
    "infl_lst = []\n",
    "for inflation in [i/10 for i in range(15, 26)]:\n",
    "    result = mc.run_mcl(ui_mat, inflation=inflation)\n",
    "    clusters = mc.get_clusters(result)\n",
    "    Q = mc.modularity(matrix=np.asmatrix(result), clusters=clusters)\n",
    "    infl_lst.append((Q, inflation))\n",
    "\n",
    "max_infl_ui = max(infl_lst)[1]"
   ]
  },
  {
   "cell_type": "code",
   "execution_count": null,
   "metadata": {},
   "outputs": [],
   "source": [
    "result_ui = mc.run_mcl(ui_mat, inflation = max_infl_ui)\n",
    "clusters_ui = mc.get_clusters(result)\n",
    "\n",
    "# use labels\n",
    "for i in range(len(clusters_ui)):\n",
    "    clusters_ui[i] = [lbls.get(item, item) for item in clusters_ui[i]]"
   ]
  },
  {
   "cell_type": "code",
   "execution_count": null,
   "metadata": {},
   "outputs": [],
   "source": [
    "mc.draw_graph(ui_mat, clusters, node_size=50, with_labels=False, edge_color=\"silver\")"
   ]
  },
  {
   "cell_type": "code",
   "execution_count": null,
   "metadata": {
    "scrolled": true
   },
   "outputs": [],
   "source": []
  },
  {
   "cell_type": "markdown",
   "metadata": {},
   "source": [
    "## MCL - ui - test ipergeometrico"
   ]
  },
  {
   "cell_type": "code",
   "execution_count": null,
   "metadata": {
    "collapsed": true
   },
   "outputs": [],
   "source": [
    "def hypergeom_test(mod, genes, G_lcc):\n",
    "    \n",
    "    M = len(G_lcc.nodes())\n",
    "    n = len(genes)\n",
    "    N = len(mod)\n",
    "    x = len(set(genes).intersection(set(prova)))\n",
    "    \n",
    "    pval = hypergeom.cdf(x, M, n, N)\n",
    "    \n",
    "    return(pval)\n"
   ]
  },
  {
   "cell_type": "code",
   "execution_count": null,
   "metadata": {},
   "outputs": [],
   "source": [
    "# find modules with more than 10 nodes \n",
    "#mod_10_ii = [i for i in clusters_ii if len(i) >=10]\n",
    "mod_10_ui = [i for i in clusters_ui if len(i) >=10]"
   ]
  },
  {
   "cell_type": "code",
   "execution_count": null,
   "metadata": {
    "scrolled": true
   },
   "outputs": [],
   "source": [
    "prova = mod_10_ui[2]\n",
    "prova"
   ]
  },
  {
   "cell_type": "code",
   "execution_count": null,
   "metadata": {},
   "outputs": [],
   "source": [
    "####### test ipergeometrico sui seed genes!!!!\n",
    "\n",
    "# x-1\n",
    "# M -> population size\n",
    "# n -> number of successes in the population\n",
    "# N -> is the sample size \n",
    "# x -> numero seed genes nel cluster "
   ]
  },
  {
   "cell_type": "code",
   "execution_count": null,
   "metadata": {
    "collapsed": true
   },
   "outputs": [],
   "source": [
    "with open(\"seed_genes.txt\",\"r\") as f:\n",
    "    genes = [gene.rstrip() for gene in f.readlines()]"
   ]
  },
  {
   "cell_type": "code",
   "execution_count": null,
   "metadata": {},
   "outputs": [],
   "source": []
  },
  {
   "cell_type": "code",
   "execution_count": null,
   "metadata": {},
   "outputs": [],
   "source": [
    "M = len(G_ui.nodes())\n",
    "n = len(genes)\n",
    "N = len(prova)\n",
    "x = len(set(genes).intersection(set(prova)))"
   ]
  },
  {
   "cell_type": "code",
   "execution_count": null,
   "metadata": {},
   "outputs": [],
   "source": [
    "from scipy.stats import hypergeom\n",
    "pval = hypergeom.cdf(x, M, n, N)\n",
    "pval"
   ]
  },
  {
   "cell_type": "code",
   "execution_count": null,
   "metadata": {},
   "outputs": [],
   "source": []
  },
  {
   "cell_type": "code",
   "execution_count": null,
   "metadata": {
    "collapsed": true
   },
   "outputs": [],
   "source": []
  },
  {
   "cell_type": "code",
   "execution_count": null,
   "metadata": {
    "collapsed": true
   },
   "outputs": [],
   "source": [
    "# https://github.com/GuyAllard/markov_clustering\n",
    "\n",
    "# https://blog.alexlenail.me/understanding-and-implementing-the-hypergeometric-test-in-python-a7db688a7458\n",
    "\n",
    "# https://www.biostars.org/p/66729/\n",
    "\n",
    "# "
   ]
  }
 ],
 "metadata": {
  "kernelspec": {
   "display_name": "Python 3",
   "language": "python",
   "name": "python3"
  },
  "language_info": {
   "codemirror_mode": {
    "name": "ipython",
    "version": 3
   },
   "file_extension": ".py",
   "mimetype": "text/x-python",
   "name": "python",
   "nbconvert_exporter": "python",
   "pygments_lexer": "ipython3",
   "version": "3.6.2"
  }
 },
 "nbformat": 4,
 "nbformat_minor": 2
}
