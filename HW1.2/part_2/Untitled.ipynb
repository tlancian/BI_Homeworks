{
 "cells": [
  {
   "cell_type": "code",
   "execution_count": 46,
   "metadata": {},
   "outputs": [
    {
     "data": {
      "text/html": [
       "<style>.container { width:80% !important; }</style>"
      ],
      "text/plain": [
       "<IPython.core.display.HTML object>"
      ]
     },
     "metadata": {},
     "output_type": "display_data"
    }
   ],
   "source": [
    "from IPython.core.display import display, HTML\n",
    "display(HTML(\"<style>.container { width:80% !important; }</style>\"))"
   ]
  },
  {
   "cell_type": "code",
   "execution_count": 1,
   "metadata": {
    "collapsed": true
   },
   "outputs": [],
   "source": [
    "import networkx as nx\n",
    "import pandas as pd\n",
    "import markov_clustering as mc\n",
    "import community\n",
    "import matplotlib.pyplot as plt\n",
    "import numpy as np"
   ]
  },
  {
   "cell_type": "code",
   "execution_count": 2,
   "metadata": {
    "collapsed": true
   },
   "outputs": [],
   "source": [
    "import utils as ut"
   ]
  },
  {
   "cell_type": "code",
   "execution_count": null,
   "metadata": {
    "collapsed": true
   },
   "outputs": [],
   "source": [
    "import pickle\n",
    "import networkx as nx\n",
    "import pandas as pd\n",
    "import markov_clustering as mc\n",
    "import community\n",
    "import numpy as np\n",
    "from scipy.stats import hypergeom\n",
    "\n",
    "def read_graph(file):\n",
    "    \n",
    "    with open(\"../part_1/results/lcc/\" + file + \"_lcc.pickle\",\"rb\") as f:\n",
    "        return pickle.load(f)\n",
    "\n",
    "\n",
    "def mcl(graph):\n",
    "    \n",
    "    mat = nx.to_numpy_matrix(graph)\n",
    "    \n",
    "    mod = -1\n",
    "    \n",
    "    for val in np.arange(1.2,3,0.1):\n",
    "        \n",
    "        res = mc.run_mcl(mat, inflation=val)\n",
    "        clust = mc.get_clusters(res)\n",
    "        q = mc.modularity(matrix=np.asmatrix(res), clusters=clust)\n",
    "        if q > mod:\n",
    "            clusters = clust\n",
    "    \n",
    "    labels = dict(zip(range(len(graph)),graph.nodes()))\n",
    "    \n",
    "    return [[labels.get(item) for item in clust] for clust in clusters]\n",
    "\n",
    "\n",
    "def louvain(G_lcc):\n",
    "    \n",
    "    partition = community.best_partition(G_lcc)\n",
    "    return [[nodes for nodes in partition.keys() if partition[nodes] == com] for com in set(partition.values())]\n",
    "\n",
    "\n",
    "def check_length_mod(mod):\n",
    "    if len(mod) >= 10:\n",
    "        return True\n",
    "\n",
    "def hypergeom_test(graph, mod):\n",
    "    \n",
    "    # Initialize the gene list\n",
    "    with open(\"../../HW1/seed_genes.txt\",\"r\") as f:\n",
    "        genes = [gene.rstrip() for gene in f.readlines()]\n",
    "    \n",
    "    M = len(graph.nodes())\n",
    "    n = len(set(genes).intersection(set(graph.nodes())))\n",
    "    N = len(mod)\n",
    "    x = len(set(genes).intersection(set(mod)))\n",
    "    \n",
    "    pval = hypergeom.sf(x-1, M, n, N)\n",
    "    \n",
    "    return [x, N, set(genes).intersection(set(mod)), set(mod).difference(set(genes)), pval]\n",
    "\n",
    "\n",
    "    \n",
    "def create_table(file, lou_mod, mcl_mod):\n",
    "    \n",
    "    lou_mod = [[\"Louvain\"]+elem for elem in lou_mod]\n",
    "    mcl_mod = [[\"MCL\"]+elem for elem in mcl_mod]\n",
    "    \n",
    "    mods = lou_mod + mcl_mod\n",
    "    \n",
    "    cols = [\"Clustering Algorithm\", \"Number of Seed Genes\", \"Number of Genes\", \"List of Seed Genes\", \"List of Non-Seed Genes\", \"P-Value\"]\n",
    "    \n",
    "    table = pd.DataFrame(data = mods, columns = cols)\n",
    "    table[\"Id\"] = np.arange(1, table.shape[0]+1)\n",
    "    \n",
    "    table.to_excel(\"results/\"+file+\".xlsx\")\n",
    "    \n",
    "    \n",
    "    put_mod = table[table[\"P-Value\"] < 0.05]\n",
    "    \n",
    "    if not put_mod.empty:\n",
    "        \n",
    "        for index, row in put_mod.iterrows():\n",
    "            with open(\"../part_3/putative_disease_modules/\"+file+\"_\"+str(row[\"Id\"])+\".txt\", \"w\") as f:\n",
    "                f.writelines(\"%s\\n\" % l for l in list(row[\"List of Seed Genes\"].union(row[\"List of Non-Seed Genes\"])))\n",
    "                f.close()\n",
    "    \n",
    "    return table\n",
    "\n",
    "\n",
    "\n",
    "\n",
    "\n",
    "\n",
    "############### Reference\n",
    "\n",
    "# https://blog.alexlenail.me/understanding-and-implementing-the-hypergeometric-test-in-python-a7db688a7458\n",
    "\n"
   ]
  },
  {
   "cell_type": "code",
   "execution_count": 3,
   "metadata": {},
   "outputs": [],
   "source": [
    "### read data\n",
    "\n",
    "ii = ut.read_graph(\"ii\")\n",
    "ui = ut.read_graph(\"ui\")\n",
    "\n",
    "\n",
    "### Hypergeom Test\n",
    "\n",
    "ii_lou = map(lambda x : ut.hypergeom_test(ii,x) ,filter(ut.check_length_mod, ut.louvain(ii, 'ii')))\n",
    "ii_mcl = map(lambda x : ut.hypergeom_test(ii,x) ,filter(ut.check_length_mod, ut.mcl(ii)))\n",
    "\n",
    "\n",
    "ui_lou = map(lambda x : ut.hypergeom_test(ui,x) ,filter(ut.check_length_mod, ut.louvain(ui, 'ui')))\n",
    "ui_mcl = map(lambda x : ut.hypergeom_test(ui,x) ,filter(ut.check_length_mod, ut.mcl(ui)))\n",
    "\n",
    "\n",
    "# Create tables\n",
    "\n",
    "#ii_mod = ut.create_table(\"ii_mod\", list(ii_lou), list(ii_mcl))\n",
    "#ui_mod = ut.create_table(\"ui_mod\", list(ui_lou), list(ui_mcl))\n",
    "\n",
    "\n",
    "# Visualize clusters \n",
    "\n",
    "ut.louvain(ii, 'ii', viz=True)\n",
    "ut.louvain(ui, 'ui', viz=True)\n",
    "\n"
   ]
  },
  {
   "cell_type": "code",
   "execution_count": null,
   "metadata": {
    "collapsed": true
   },
   "outputs": [],
   "source": []
  },
  {
   "cell_type": "code",
   "execution_count": null,
   "metadata": {
    "collapsed": true
   },
   "outputs": [],
   "source": []
  },
  {
   "cell_type": "code",
   "execution_count": 116,
   "metadata": {},
   "outputs": [],
   "source": [
    "def mcl(graph, filename, viz=False):\n",
    "    \n",
    "    mat = nx.to_numpy_matrix(graph)\n",
    "    \n",
    "    mod = -1\n",
    "    \n",
    "    for val in np.arange(1.2,3,0.1):\n",
    "        \n",
    "        res = mc.run_mcl(mat, inflation=val)\n",
    "        clust = mc.get_clusters(res)\n",
    "        q = mc.modularity(matrix=np.asmatrix(res), clusters=clust)\n",
    "        if q > mod:\n",
    "            clusters = clust\n",
    "    \n",
    "    if viz == False:\n",
    "        \n",
    "        labels = dict(zip(range(len(graph)),graph.nodes()))\n",
    "\n",
    "        return[[labels.get(item) for item in clust] for clust in clusters]\n",
    "    \n",
    "    else:\n",
    "        \n",
    "        plt.figure(num=None, figsize=(15,15), dpi=50)\n",
    "        pos = nx.spring_layout(graph)\n",
    "        mc.draw_graph(mat, clusters, node_size=200, with_labels=False, edge_color=\"silver\")\n",
    "          \n",
    "        #plt.savefig('results/' + filename + '.png')\n",
    "\n",
    "        \n",
    "        \n",
    "        \n",
    "\n",
    "import seaborn as sns\n",
    "\n",
    "def louvain(G_lcc, filename, viz=False):\n",
    "    \n",
    "    partition = community.best_partition(G_lcc)\n",
    "    clusters = [[nodes for nodes in partition.keys() if partition[nodes] == com] for com in set(partition.values())]\n",
    "    \n",
    "    if viz == False:\n",
    "    \n",
    "        return(clusters)\n",
    "    \n",
    "    else:\n",
    "        \n",
    "        plt.figure(num=None, figsize=(15,15), dpi=50)\n",
    "        pos = nx.spring_layout(G_lcc)\n",
    "        col = sns.color_palette(\"husl\", len(clusters))\n",
    "        \n",
    "        for idx,c in enumerate(clusters):\n",
    "            nx.draw_networkx_nodes(G_lcc, pos, nodelist=clusters[idx], node_color=col[idx])\n",
    "            \n",
    "        nx.draw_networkx_edges(G_lcc, pos, alpha=0.5)\n",
    "        plt.savefig('results/' + filename + '_louvain.png', bbox_inches='tight')\n"
   ]
  },
  {
   "cell_type": "code",
   "execution_count": null,
   "metadata": {
    "collapsed": true
   },
   "outputs": [],
   "source": []
  },
  {
   "cell_type": "code",
   "execution_count": null,
   "metadata": {
    "collapsed": true
   },
   "outputs": [],
   "source": []
  },
  {
   "cell_type": "code",
   "execution_count": null,
   "metadata": {
    "collapsed": true
   },
   "outputs": [],
   "source": []
  },
  {
   "cell_type": "code",
   "execution_count": null,
   "metadata": {
    "collapsed": true
   },
   "outputs": [],
   "source": []
  },
  {
   "cell_type": "code",
   "execution_count": null,
   "metadata": {
    "collapsed": true
   },
   "outputs": [],
   "source": []
  },
  {
   "cell_type": "code",
   "execution_count": null,
   "metadata": {
    "collapsed": true
   },
   "outputs": [],
   "source": [
    "size = float(len(set(partition_ii.values())))\n",
    "pos = nx.spring_layout(G_ii)\n",
    "count = 0.\n",
    "for com in set(partition_ii.values()) :\n",
    "    count = count + 1.\n",
    "    list_nodes = [nodes for nodes in partition_ii.keys()\n",
    "                                if partition_ii[nodes] == com]\n",
    "    nx.draw_networkx_nodes(G_ii, pos, list_nodes, node_size = 20,\n",
    "                                node_color = str(count / size))\n",
    "\n",
    "\n",
    "nx.draw_networkx_edges(G_ii, pos, alpha=0.5)\n",
    "plt.show()\n",
    "\n",
    "    plt.figure(num=None, figsize=(15,15), dpi=50)\n",
    "    nx.draw(G, nodelist= list(d.keys()), node_size=[v*100  for v in d.values()], with_labels = True, \n",
    "            pos = get_coordinates(),  font_size=18, node_color=list(nx.get_node_attributes(G,'color').values()))\n",
    "    plt.savefig('results/' + filename + '_degree' + '.png')"
   ]
  },
  {
   "cell_type": "code",
   "execution_count": null,
   "metadata": {
    "collapsed": true
   },
   "outputs": [],
   "source": [
    "size = float(len(set(partition_ii.values())))\n",
    "pos = nx.spring_layout(G_ii)\n",
    "count = 0.\n",
    "for com in set(partition_ii.values()) :\n",
    "    count = count + 1.\n",
    "    list_nodes = [nodes for nodes in partition_ii.keys()\n",
    "                                if partition_ii[nodes] == com]\n",
    "    nx.draw_networkx_nodes(G_ii, pos, list_nodes, node_size = 20,\n",
    "                                node_color = str(count / size))\n",
    "\n",
    "\n",
    "nx.draw_networkx_edges(G_ii, pos, alpha=0.5)\n",
    "plt.show()\n",
    "\n",
    "    plt.figure(num=None, figsize=(15,15), dpi=50)\n",
    "    nx.draw(G, nodelist= list(d.keys()), node_size=[v*100  for v in d.values()], with_labels = True, \n",
    "            pos = get_coordinates(),  font_size=18, node_color=list(nx.get_node_attributes(G,'color').values()))\n",
    "    plt.savefig('results/' + filename + '_degree' + '.png')"
   ]
  },
  {
   "cell_type": "code",
   "execution_count": null,
   "metadata": {
    "collapsed": true
   },
   "outputs": [],
   "source": [
    "mc.draw_graph(ui_mat, clusters, node_size=50, with_labels=False, edge_color=\"silver\")"
   ]
  },
  {
   "cell_type": "code",
   "execution_count": null,
   "metadata": {
    "collapsed": true
   },
   "outputs": [],
   "source": [
    "# https://github.com/GuyAllard/markov_clustering\n",
    "\n",
    "# https://blog.alexlenail.me/understanding-and-implementing-the-hypergeometric-test-in-python-a7db688a7458\n",
    "\n",
    "# https://www.biostars.org/p/66729/\n",
    "\n",
    "# "
   ]
  }
 ],
 "metadata": {
  "kernelspec": {
   "display_name": "Python 3",
   "language": "python",
   "name": "python3"
  },
  "language_info": {
   "codemirror_mode": {
    "name": "ipython",
    "version": 3
   },
   "file_extension": ".py",
   "mimetype": "text/x-python",
   "name": "python",
   "nbconvert_exporter": "python",
   "pygments_lexer": "ipython3",
   "version": "3.6.2"
  }
 },
 "nbformat": 4,
 "nbformat_minor": 2
}
